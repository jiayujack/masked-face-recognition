{
 "cells": [
  {
   "cell_type": "markdown",
   "metadata": {},
   "source": [
    "# 1. 载入数据"
   ]
  },
  {
   "cell_type": "markdown",
   "metadata": {},
   "source": [
    "首先记得指明你的data_dir："
   ]
  },
  {
   "cell_type": "code",
   "execution_count": 1,
   "metadata": {},
   "outputs": [],
   "source": [
    "# data_dir = './data/self-built-masked-face-recognition-dataset/AFDB_face_dataset/'\n",
    "data_dir = 'F:/Projects/FaceMaskDetection/RMFD/self-built-masked-face-recognition-dataset/AFDB_face_dataset/'\n",
    "masked_data_dir = 'F:/Projects/FaceMaskDetection/RMFD/self-built-masked-face-recognition-dataset/AFDB_masked_face_dataset/'"
   ]
  },
  {
   "cell_type": "code",
   "execution_count": 2,
   "metadata": {},
   "outputs": [],
   "source": [
    "import os\n",
    "import cv2\n",
    "from tqdm import tqdm\n",
    "from tensorflow.keras.layers import *\n",
    "from tensorflow.keras.models import *\n",
    "from tensorflow.keras.callbacks import *\n",
    "from tensorflow.keras.optimizers import *\n",
    "from tensorflow.keras.applications import *\n",
    "from tensorflow.keras.preprocessing.image import *"
   ]
  },
  {
   "cell_type": "code",
   "execution_count": 3,
   "metadata": {},
   "outputs": [],
   "source": [
    "X_list = []\n",
    "y_list = []\n",
    "labels = os.listdir(data_dir)\n",
    "for label in labels:\n",
    "    fns = os.listdir(data_dir + '/' + label)\n",
    "    for fn in fns:\n",
    "        X_list.append(data_dir + '/' + label + '/' + fn)\n",
    "        y_list.append(label)"
   ]
  },
  {
   "cell_type": "code",
   "execution_count": 4,
   "metadata": {},
   "outputs": [
    {
     "data": {
      "text/plain": [
       "90468"
      ]
     },
     "execution_count": 4,
     "metadata": {},
     "output_type": "execute_result"
    }
   ],
   "source": [
    "len(X_list)"
   ]
  },
  {
   "cell_type": "code",
   "execution_count": 5,
   "metadata": {},
   "outputs": [
    {
     "data": {
      "text/plain": [
       "'F:/Projects/FaceMaskDetection/RMFD/self-built-masked-face-recognition-dataset/AFDB_face_dataset//aidai/0_0_aidai_0014.jpg'"
      ]
     },
     "execution_count": 5,
     "metadata": {},
     "output_type": "execute_result"
    }
   ],
   "source": [
    "X_list[0]"
   ]
  },
  {
   "cell_type": "code",
   "execution_count": 6,
   "metadata": {},
   "outputs": [
    {
     "data": {
      "text/plain": [
       "'aidai'"
      ]
     },
     "execution_count": 6,
     "metadata": {},
     "output_type": "execute_result"
    }
   ],
   "source": [
    "y_list[0]"
   ]
  },
  {
   "cell_type": "code",
   "execution_count": 7,
   "metadata": {},
   "outputs": [],
   "source": [
    "img_path = X_list[0]\n",
    "size = 32\n",
    "X = (cv2.resize(cv2.imread(img_path), (size, size))[:, :, ::-1].copy())"
   ]
  },
  {
   "cell_type": "code",
   "execution_count": 8,
   "metadata": {},
   "outputs": [
    {
     "data": {
      "text/plain": [
       "(32, 32, 3)"
      ]
     },
     "execution_count": 8,
     "metadata": {},
     "output_type": "execute_result"
    }
   ],
   "source": [
    "X.shape"
   ]
  },
  {
   "cell_type": "code",
   "execution_count": 9,
   "metadata": {},
   "outputs": [
    {
     "data": {
      "text/plain": [
       "<matplotlib.image.AxesImage at 0x295aaccc198>"
      ]
     },
     "execution_count": 9,
     "metadata": {},
     "output_type": "execute_result"
    },
    {
     "data": {
      "image/png": "[encoded data removed]",
      "text/plain": [
       "<Figure size 432x288 with 1 Axes>"
      ]
     },
     "metadata": {
      "needs_background": "light"
     },
     "output_type": "display_data"
    }
   ],
   "source": [
    "import matplotlib.pyplot as plt\n",
    "%matplotlib inline\n",
    "plt.imshow(X)"
   ]
  },
  {
   "cell_type": "markdown",
   "metadata": {},
   "source": [
    "可以看到没有口罩的数据集中，一共是有460个不同的人。如果是之后还要用到有口罩的数据集，那里面是525人，最好取一下交集。"
   ]
  },
  {
   "cell_type": "code",
   "execution_count": 10,
   "metadata": {},
   "outputs": [
    {
     "data": {
      "text/plain": [
       "460"
      ]
     },
     "execution_count": 10,
     "metadata": {},
     "output_type": "execute_result"
    }
   ],
   "source": [
    "len(set(y_list))"
   ]
  },
  {
   "cell_type": "markdown",
   "metadata": {},
   "source": [
    "**接下来在这里叠加有口罩的情况，注意我们只使用之前已经存在的人名，因为 没有口罩的总人数是460，而有口罩的总人数是525，我们取了交集，也就是只使用460个人的图片**"
   ]
  },
  {
   "cell_type": "code",
   "execution_count": 11,
   "metadata": {},
   "outputs": [
    {
     "data": {
      "text/plain": [
       "90468"
      ]
     },
     "execution_count": 11,
     "metadata": {},
     "output_type": "execute_result"
    }
   ],
   "source": [
    "len(X_list)"
   ]
  },
  {
   "cell_type": "code",
   "execution_count": 12,
   "metadata": {},
   "outputs": [
    {
     "name": "stdout",
     "output_type": "stream",
     "text": [
      "wangzhiwen not exists\n",
      "hudie not exists\n",
      "zhangzhenyue not exists\n",
      "linyilun not exists\n",
      "tanlina not exists\n",
      "liaofan not exists\n",
      "zhongjiaxin not exists\n",
      "gaohu not exists\n",
      "fuxinbo not exists\n",
      "hejunxiang not exists\n",
      "yufeihong not exists\n",
      "hedujuan not exists\n",
      "hewenhui not exists\n",
      "linyilian not exists\n",
      "dongchengpeng not exists\n",
      "liupinyan not exists\n",
      "liwen not exists\n",
      "yufeng not exists\n"
     ]
    }
   ],
   "source": [
    "# 只使用之前已经有的460个人的图片\n",
    "for label in set(y_list):\n",
    "    try:\n",
    "        fns = os.listdir(masked_data_dir + '/' + label)\n",
    "        for fn in fns:\n",
    "            X_list.append(masked_data_dir + '/' + label + '/' + fn)\n",
    "            y_list.append(label)\n",
    "    except:\n",
    "        print(label, 'not exists')"
   ]
  },
  {
   "cell_type": "code",
   "execution_count": 13,
   "metadata": {},
   "outputs": [
    {
     "data": {
      "text/plain": [
       "92413"
      ]
     },
     "execution_count": 13,
     "metadata": {},
     "output_type": "execute_result"
    }
   ],
   "source": [
    "len(X_list)"
   ]
  },
  {
   "cell_type": "markdown",
   "metadata": {},
   "source": [
    "**可以看到多了2000张图片。**下面的流程是类似的。"
   ]
  },
  {
   "cell_type": "code",
   "execution_count": 14,
   "metadata": {},
   "outputs": [],
   "source": [
    "import pandas as pd\n",
    "df = pd.DataFrame({'X': X_list, 'y_name': y_list}, index=range(len(X_list)))"
   ]
  },
  {
   "cell_type": "code",
   "execution_count": 15,
   "metadata": {},
   "outputs": [
    {
     "data": {
      "text/html": [
       "<div>\n",
       "<style scoped>\n",
       "    .dataframe tbody tr th:only-of-type {\n",
       "        vertical-align: middle;\n",
       "    }\n",
       "\n",
       "    .dataframe tbody tr th {\n",
       "        vertical-align: top;\n",
       "    }\n",
       "\n",
       "    .dataframe thead th {\n",
       "        text-align: right;\n",
       "    }\n",
       "</style>\n",
       "<table border=\"1\" class=\"dataframe\">\n",
       "  <thead>\n",
       "    <tr style=\"text-align: right;\">\n",
       "      <th></th>\n",
       "      <th>X</th>\n",
       "      <th>y_name</th>\n",
       "    </tr>\n",
       "  </thead>\n",
       "  <tbody>\n",
       "    <tr>\n",
       "      <th>0</th>\n",
       "      <td>F:/Projects/FaceMaskDetection/RMFD/self-built-...</td>\n",
       "      <td>aidai</td>\n",
       "    </tr>\n",
       "    <tr>\n",
       "      <th>1</th>\n",
       "      <td>F:/Projects/FaceMaskDetection/RMFD/self-built-...</td>\n",
       "      <td>aidai</td>\n",
       "    </tr>\n",
       "    <tr>\n",
       "      <th>2</th>\n",
       "      <td>F:/Projects/FaceMaskDetection/RMFD/self-built-...</td>\n",
       "      <td>aidai</td>\n",
       "    </tr>\n",
       "    <tr>\n",
       "      <th>3</th>\n",
       "      <td>F:/Projects/FaceMaskDetection/RMFD/self-built-...</td>\n",
       "      <td>aidai</td>\n",
       "    </tr>\n",
       "    <tr>\n",
       "      <th>4</th>\n",
       "      <td>F:/Projects/FaceMaskDetection/RMFD/self-built-...</td>\n",
       "      <td>aidai</td>\n",
       "    </tr>\n",
       "  </tbody>\n",
       "</table>\n",
       "</div>"
      ],
      "text/plain": [
       "                                                   X y_name\n",
       "0  F:/Projects/FaceMaskDetection/RMFD/self-built-...  aidai\n",
       "1  F:/Projects/FaceMaskDetection/RMFD/self-built-...  aidai\n",
       "2  F:/Projects/FaceMaskDetection/RMFD/self-built-...  aidai\n",
       "3  F:/Projects/FaceMaskDetection/RMFD/self-built-...  aidai\n",
       "4  F:/Projects/FaceMaskDetection/RMFD/self-built-...  aidai"
      ]
     },
     "execution_count": 15,
     "metadata": {},
     "output_type": "execute_result"
    }
   ],
   "source": [
    "df.head()"
   ]
  },
  {
   "cell_type": "markdown",
   "metadata": {},
   "source": [
    "把y这个类别转换为数字编码的标签："
   ]
  },
  {
   "cell_type": "code",
   "execution_count": 16,
   "metadata": {},
   "outputs": [],
   "source": [
    "from sklearn.preprocessing import LabelEncoder\n",
    "encoder = LabelEncoder()\n",
    "df['y'] = encoder.fit_transform(df['y_name'])"
   ]
  },
  {
   "cell_type": "code",
   "execution_count": 17,
   "metadata": {},
   "outputs": [
    {
     "data": {
      "text/html": [
       "<div>\n",
       "<style scoped>\n",
       "    .dataframe tbody tr th:only-of-type {\n",
       "        vertical-align: middle;\n",
       "    }\n",
       "\n",
       "    .dataframe tbody tr th {\n",
       "        vertical-align: top;\n",
       "    }\n",
       "\n",
       "    .dataframe thead th {\n",
       "        text-align: right;\n",
       "    }\n",
       "</style>\n",
       "<table border=\"1\" class=\"dataframe\">\n",
       "  <thead>\n",
       "    <tr style=\"text-align: right;\">\n",
       "      <th></th>\n",
       "      <th>X</th>\n",
       "      <th>y_name</th>\n",
       "      <th>y</th>\n",
       "    </tr>\n",
       "  </thead>\n",
       "  <tbody>\n",
       "    <tr>\n",
       "      <th>0</th>\n",
       "      <td>F:/Projects/FaceMaskDetection/RMFD/self-built-...</td>\n",
       "      <td>aidai</td>\n",
       "      <td>0</td>\n",
       "    </tr>\n",
       "    <tr>\n",
       "      <th>1</th>\n",
       "      <td>F:/Projects/FaceMaskDetection/RMFD/self-built-...</td>\n",
       "      <td>aidai</td>\n",
       "      <td>0</td>\n",
       "    </tr>\n",
       "    <tr>\n",
       "      <th>2</th>\n",
       "      <td>F:/Projects/FaceMaskDetection/RMFD/self-built-...</td>\n",
       "      <td>aidai</td>\n",
       "      <td>0</td>\n",
       "    </tr>\n",
       "    <tr>\n",
       "      <th>3</th>\n",
       "      <td>F:/Projects/FaceMaskDetection/RMFD/self-built-...</td>\n",
       "      <td>aidai</td>\n",
       "      <td>0</td>\n",
       "    </tr>\n",
       "    <tr>\n",
       "      <th>4</th>\n",
       "      <td>F:/Projects/FaceMaskDetection/RMFD/self-built-...</td>\n",
       "      <td>aidai</td>\n",
       "      <td>0</td>\n",
       "    </tr>\n",
       "  </tbody>\n",
       "</table>\n",
       "</div>"
      ],
      "text/plain": [
       "                                                   X y_name  y\n",
       "0  F:/Projects/FaceMaskDetection/RMFD/self-built-...  aidai  0\n",
       "1  F:/Projects/FaceMaskDetection/RMFD/self-built-...  aidai  0\n",
       "2  F:/Projects/FaceMaskDetection/RMFD/self-built-...  aidai  0\n",
       "3  F:/Projects/FaceMaskDetection/RMFD/self-built-...  aidai  0\n",
       "4  F:/Projects/FaceMaskDetection/RMFD/self-built-...  aidai  0"
      ]
     },
     "execution_count": 17,
     "metadata": {},
     "output_type": "execute_result"
    }
   ],
   "source": [
    "df.head()"
   ]
  },
  {
   "cell_type": "code",
   "execution_count": 18,
   "metadata": {},
   "outputs": [
    {
     "data": {
      "text/plain": [
       "459"
      ]
     },
     "execution_count": 18,
     "metadata": {},
     "output_type": "execute_result"
    }
   ],
   "source": [
    "max(df['y'])"
   ]
  },
  {
   "cell_type": "code",
   "execution_count": 19,
   "metadata": {},
   "outputs": [],
   "source": [
    "num_classes = max(df['y']) + 1"
   ]
  },
  {
   "cell_type": "markdown",
   "metadata": {},
   "source": [
    "接下来进行数据集的划分："
   ]
  },
  {
   "cell_type": "code",
   "execution_count": 20,
   "metadata": {},
   "outputs": [],
   "source": [
    "from sklearn.model_selection import StratifiedShuffleSplit\n",
    "\n",
    "split = StratifiedShuffleSplit(n_splits=1, test_size=0.2, random_state=42)\n",
    "\n",
    "# 按照不同人进行分层采样\n",
    "# 尽量避免有人只出现在训练集或只出现在测试集的情况\n",
    "for train_index, test_index in split.split(df, df['y']):\n",
    "    strat_train_set = df.loc[train_index]\n",
    "    strat_test_set = df.loc[test_index]"
   ]
  },
  {
   "cell_type": "code",
   "execution_count": 21,
   "metadata": {},
   "outputs": [
    {
     "data": {
      "text/plain": [
       "(73930, 3)"
      ]
     },
     "execution_count": 21,
     "metadata": {},
     "output_type": "execute_result"
    }
   ],
   "source": [
    "strat_train_set.shape"
   ]
  },
  {
   "cell_type": "code",
   "execution_count": 22,
   "metadata": {},
   "outputs": [
    {
     "data": {
      "text/plain": [
       "(18483, 3)"
      ]
     },
     "execution_count": 22,
     "metadata": {},
     "output_type": "execute_result"
    }
   ],
   "source": [
    "strat_test_set.shape"
   ]
  },
  {
   "cell_type": "code",
   "execution_count": 23,
   "metadata": {},
   "outputs": [
    {
     "data": {
      "text/plain": [
       "(92413, 3)"
      ]
     },
     "execution_count": 23,
     "metadata": {},
     "output_type": "execute_result"
    }
   ],
   "source": [
    "df.shape"
   ]
  },
  {
   "cell_type": "code",
   "execution_count": 24,
   "metadata": {},
   "outputs": [
    {
     "data": {
      "text/plain": [
       "<matplotlib.axes._subplots.AxesSubplot at 0x295acc0f630>"
      ]
     },
     "execution_count": 24,
     "metadata": {},
     "output_type": "execute_result"
    },
    {
     "data": {
      "image/png": "[encoded data removed]",
      "text/plain": [
       "<Figure size 1440x1080 with 1 Axes>"
      ]
     },
     "metadata": {
      "needs_background": "light"
     },
     "output_type": "display_data"
    }
   ],
   "source": [
    "strat_train_set['y'].hist(bins=50, figsize=(20,15))"
   ]
  },
  {
   "cell_type": "code",
   "execution_count": 25,
   "metadata": {},
   "outputs": [
    {
     "data": {
      "text/plain": [
       "<matplotlib.axes._subplots.AxesSubplot at 0x295accb9be0>"
      ]
     },
     "execution_count": 25,
     "metadata": {},
     "output_type": "execute_result"
    },
    {
     "data": {
      "image/png": "[encoded data removed]",
      "text/plain": [
       "<Figure size 1440x1080 with 1 Axes>"
      ]
     },
     "metadata": {
      "needs_background": "light"
     },
     "output_type": "display_data"
    }
   ],
   "source": [
    "strat_test_set['y'].hist(bins=50, figsize=(20,15))"
   ]
  },
  {
   "cell_type": "markdown",
   "metadata": {},
   "source": [
    "接下来利用ImageDataGenerator来准备训练用的generator"
   ]
  },
  {
   "cell_type": "code",
   "execution_count": 26,
   "metadata": {},
   "outputs": [],
   "source": [
    "from keras_preprocessing.image import ImageDataGenerator"
   ]
  },
  {
   "cell_type": "code",
   "execution_count": 27,
   "metadata": {},
   "outputs": [
    {
     "name": "stdout",
     "output_type": "stream",
     "text": [
      "Found 59144 validated image filenames belonging to 460 classes.\n",
      "Found 14786 validated image filenames belonging to 460 classes.\n"
     ]
    }
   ],
   "source": [
    "# 图像归一化\n",
    "# 并且划分20%的训练集数据作为验证集数据\n",
    "datagen=ImageDataGenerator(rescale=1./255, validation_split=0.2)\n",
    "\n",
    "# 设置小批量的大小\n",
    "batch_size = 32\n",
    "\n",
    "# 我们的dataframe中保存的路径足够\n",
    "# 否则还需要指明directory来表示文件存放的路径\n",
    "train_generator=datagen.flow_from_dataframe(dataframe=strat_train_set, \n",
    "                                            x_col='X',\n",
    "                                            y_col='y_name',\n",
    "                                            subset=\"training\",\n",
    "                                            seed=44,  # 随机数种子\n",
    "                                            class_mode=\"sparse\", # 直接使用文本标签\n",
    "                                            target_size=(32, 32),  # 这里把图片变小\n",
    "                                            batch_size=batch_size) # 内存不足可以调小batch_size\n",
    "\n",
    "# 划分\n",
    "valid_generator=datagen.flow_from_dataframe(dataframe=strat_train_set, \n",
    "                                            x_col='X',\n",
    "                                            y_col='y_name',\n",
    "                                            subset=\"validation\",\n",
    "                                            seed=44,  # 随机数种子\n",
    "                                            class_mode=\"sparse\", # 直接使用文本标签\n",
    "                                            target_size=(32, 32),  # 这里把图片变小\n",
    "                                            batch_size=batch_size) # 内存不足可以调小batch_size"
   ]
  },
  {
   "cell_type": "markdown",
   "metadata": {},
   "source": [
    "分布查看训练集和验证集的数据量："
   ]
  },
  {
   "cell_type": "code",
   "execution_count": 28,
   "metadata": {},
   "outputs": [
    {
     "data": {
      "text/plain": [
       "59144"
      ]
     },
     "execution_count": 28,
     "metadata": {},
     "output_type": "execute_result"
    }
   ],
   "source": [
    "train_generator.n"
   ]
  },
  {
   "cell_type": "code",
   "execution_count": 29,
   "metadata": {},
   "outputs": [
    {
     "data": {
      "text/plain": [
       "32"
      ]
     },
     "execution_count": 29,
     "metadata": {},
     "output_type": "execute_result"
    }
   ],
   "source": [
    "train_generator.batch_size"
   ]
  },
  {
   "cell_type": "code",
   "execution_count": 30,
   "metadata": {},
   "outputs": [
    {
     "data": {
      "text/plain": [
       "14786"
      ]
     },
     "execution_count": 30,
     "metadata": {},
     "output_type": "execute_result"
    }
   ],
   "source": [
    "valid_generator.n"
   ]
  },
  {
   "cell_type": "code",
   "execution_count": 31,
   "metadata": {},
   "outputs": [
    {
     "data": {
      "text/plain": [
       "32"
      ]
     },
     "execution_count": 31,
     "metadata": {},
     "output_type": "execute_result"
    }
   ],
   "source": [
    "valid_generator.batch_size"
   ]
  },
  {
   "cell_type": "code",
   "execution_count": 32,
   "metadata": {},
   "outputs": [
    {
     "name": "stdout",
     "output_type": "stream",
     "text": [
      "(32, 32, 32, 3)\n",
      "(32,)\n"
     ]
    }
   ],
   "source": [
    "for X_batch, y_batch in train_generator:\n",
    "    print(X_batch.shape)\n",
    "    print(y_batch.shape)\n",
    "    break"
   ]
  },
  {
   "cell_type": "code",
   "execution_count": 33,
   "metadata": {},
   "outputs": [
    {
     "data": {
      "text/plain": [
       "<matplotlib.image.AxesImage at 0x295ae4fb518>"
      ]
     },
     "execution_count": 33,
     "metadata": {},
     "output_type": "execute_result"
    },
    {
     "data": {
      "image/png": "[encoded data removed]",
      "text/plain": [
       "<Figure size 432x288 with 1 Axes>"
      ]
     },
     "metadata": {
      "needs_background": "light"
     },
     "output_type": "display_data"
    }
   ],
   "source": [
    "plt.imshow(X_batch[0])"
   ]
  },
  {
   "cell_type": "code",
   "execution_count": 34,
   "metadata": {},
   "outputs": [
    {
     "data": {
      "text/plain": [
       "114.0"
      ]
     },
     "execution_count": 34,
     "metadata": {},
     "output_type": "execute_result"
    }
   ],
   "source": [
    "y_batch[0]"
   ]
  },
  {
   "cell_type": "markdown",
   "metadata": {},
   "source": [
    "可以看到已经train_generator已经可以自动读取图像了"
   ]
  },
  {
   "cell_type": "markdown",
   "metadata": {},
   "source": [
    "类似的，我们构建test_generator"
   ]
  },
  {
   "cell_type": "code",
   "execution_count": 35,
   "metadata": {},
   "outputs": [
    {
     "name": "stdout",
     "output_type": "stream",
     "text": [
      "Found 18483 validated image filenames belonging to 460 classes.\n"
     ]
    }
   ],
   "source": [
    "# 图像归一化\n",
    "datagen=ImageDataGenerator(rescale=1./255)\n",
    "batch_size = 32\n",
    "\n",
    "# 我们的dataframe中保存的路径足够\n",
    "# 否则还需要指明directory来表示文件存放的路径\n",
    "test_generator=datagen.flow_from_dataframe(dataframe=strat_test_set, \n",
    "                                            x_col='X',\n",
    "                                            y_col='y_name',\n",
    "                                            class_mode=\"sparse\", # 直接使用文本标签\n",
    "                                            target_size=(32, 32),  # 这里把图片变小\n",
    "                                            batch_size=batch_size) # 内存不足可以调小batch_size"
   ]
  },
  {
   "cell_type": "code",
   "execution_count": 36,
   "metadata": {},
   "outputs": [
    {
     "data": {
      "text/plain": [
       "18483"
      ]
     },
     "execution_count": 36,
     "metadata": {},
     "output_type": "execute_result"
    }
   ],
   "source": [
    "test_generator.n"
   ]
  },
  {
   "cell_type": "code",
   "execution_count": 37,
   "metadata": {},
   "outputs": [
    {
     "data": {
      "text/plain": [
       "32"
      ]
     },
     "execution_count": 37,
     "metadata": {},
     "output_type": "execute_result"
    }
   ],
   "source": [
    "test_generator.batch_size"
   ]
  },
  {
   "cell_type": "markdown",
   "metadata": {},
   "source": [
    "# 2. 模型尝试"
   ]
  },
  {
   "cell_type": "code",
   "execution_count": 38,
   "metadata": {},
   "outputs": [],
   "source": [
    "from tensorflow.keras.applications import MobileNet\n",
    "from tensorflow.keras.models import Model\n",
    "from tensorflow.keras.layers import Dense, GlobalAveragePooling2D\n",
    "# 不同电脑上keras配置文件最好都改成一致的，否则这里确认下\n",
    "import tensorflow as tf\n",
    "tf.keras.backend.set_image_data_format('channels_last')"
   ]
  },
  {
   "cell_type": "markdown",
   "metadata": {},
   "source": [
    "注意这里的输入是(32, 32, 3)"
   ]
  },
  {
   "cell_type": "code",
   "execution_count": 39,
   "metadata": {},
   "outputs": [],
   "source": [
    "# 先设置一个base model\n",
    "# 当我们使用预训练的权重时，必须要求输入3个通道，即RGB通道\n",
    "base_model = MobileNet(input_shape=(32, 32, 3),  # MobileNet要求输入的尺寸不小于32，不同模型有不同要求\n",
    "                       include_top=False,  # 不使用最后一层，因为我们要按照具体的数据来设置最后一层的神经元个数\n",
    "                       weights=None)  # 这里我们不使用预训练过的权重，如果使用，图片尺寸最好变更大\n",
    "\n",
    "# 添加a global spatial average pooling layer\n",
    "x = base_model.output\n",
    "x = GlobalAveragePooling2D()(x)\n",
    "# 添加a fully-connected layer\n",
    "x = Dense(1024, activation='relu')(x)\n",
    "\n",
    "predictions = Dense(num_classes, activation='softmax')(x)\n",
    "\n",
    "# 我们最终会训练的模型\n",
    "net = Model(inputs=base_model.input, outputs=predictions)"
   ]
  },
  {
   "cell_type": "markdown",
   "metadata": {},
   "source": [
    "进行模型的训练："
   ]
  },
  {
   "cell_type": "code",
   "execution_count": 40,
   "metadata": {},
   "outputs": [
    {
     "name": "stdout",
     "output_type": "stream",
     "text": [
      "Epoch 1/10\n",
      "1848/1848 [==============================] - 43s 24ms/step - loss: 5.8187 - accuracy: 0.0115 - val_loss: 5.5346 - val_accuracy: 0.0159\n",
      "Epoch 2/10\n",
      "1848/1848 [==============================] - 43s 24ms/step - loss: 5.3041 - accuracy: 0.0275 - val_loss: 5.1527 - val_accuracy: 0.0346\n",
      "Epoch 3/10\n",
      "1848/1848 [==============================] - 43s 23ms/step - loss: 5.0159 - accuracy: 0.0442 - val_loss: 4.9219 - val_accuracy: 0.0559\n",
      "Epoch 4/10\n",
      "1848/1848 [==============================] - 42s 23ms/step - loss: 4.7648 - accuracy: 0.0651 - val_loss: 5.1229 - val_accuracy: 0.0472\n",
      "Epoch 5/10\n",
      "1848/1848 [==============================] - 43s 23ms/step - loss: 4.5336 - accuracy: 0.0872 - val_loss: 4.5639 - val_accuracy: 0.0867\n",
      "Epoch 6/10\n",
      "1848/1848 [==============================] - 45s 24ms/step - loss: 4.3195 - accuracy: 0.1118 - val_loss: 4.4688 - val_accuracy: 0.1057\n",
      "Epoch 7/10\n",
      "1848/1848 [==============================] - 44s 24ms/step - loss: 4.1219 - accuracy: 0.1352 - val_loss: 4.7779 - val_accuracy: 0.0866\n",
      "Epoch 8/10\n",
      "1848/1848 [==============================] - 42s 23ms/step - loss: 3.9471 - accuracy: 0.1601 - val_loss: 4.2180 - val_accuracy: 0.1452\n",
      "Epoch 9/10\n",
      "1848/1848 [==============================] - 46s 25ms/step - loss: 3.7809 - accuracy: 0.1853 - val_loss: 4.1016 - val_accuracy: 0.1556\n",
      "Epoch 10/10\n",
      "1848/1848 [==============================] - 44s 24ms/step - loss: 3.6300 - accuracy: 0.2077 - val_loss: 3.9903 - val_accuracy: 0.1753\n"
     ]
    },
    {
     "data": {
      "text/plain": [
       "<tensorflow.python.keras.callbacks.History at 0x2976423f2e8>"
      ]
     },
     "execution_count": 40,
     "metadata": {},
     "output_type": "execute_result"
    }
   ],
   "source": [
    "optimizer = tf.keras.optimizers.SGD(learning_rate=0.05)\n",
    "\n",
    "net.compile(optimizer=optimizer,\n",
    "            loss='sparse_categorical_crossentropy',\n",
    "            metrics=['accuracy'])\n",
    "\n",
    "epochs = 10\n",
    "batch_size = 32\n",
    "\n",
    "net.fit(train_generator,\n",
    "        steps_per_epoch=train_generator.n // train_generator.batch_size,\n",
    "        validation_data=valid_generator,\n",
    "        validation_steps=valid_generator.n // valid_generator.batch_size,\n",
    "        epochs=epochs,\n",
    "        verbose=1)"
   ]
  },
  {
   "cell_type": "code",
   "execution_count": 41,
   "metadata": {},
   "outputs": [
    {
     "name": "stdout",
     "output_type": "stream",
     "text": [
      "577/577 [==============================] - 10s 18ms/step - loss: 4.0107 - accuracy: 0.1692\n"
     ]
    },
    {
     "data": {
      "text/plain": [
       "0.16924826800823212"
      ]
     },
     "execution_count": 41,
     "metadata": {},
     "output_type": "execute_result"
    }
   ],
   "source": [
    "loss, acc = net.evaluate(test_generator, steps=test_generator.n // test_generator.batch_size)\n",
    "acc"
   ]
  },
  {
   "cell_type": "code",
   "execution_count": 42,
   "metadata": {},
   "outputs": [
    {
     "name": "stdout",
     "output_type": "stream",
     "text": [
      "Epoch 1/50\n",
      "1848/1848 [==============================] - 46s 25ms/step - loss: 3.0843 - accuracy: 0.3008 - val_loss: 3.6424 - val_accuracy: 0.2369\n",
      "Epoch 2/50\n",
      "1848/1848 [==============================] - 43s 23ms/step - loss: 2.9123 - accuracy: 0.3316 - val_loss: 3.6643 - val_accuracy: 0.2332\n",
      "Epoch 3/50\n",
      "1848/1848 [==============================] - 44s 24ms/step - loss: 2.7933 - accuracy: 0.3532 - val_loss: 3.7590 - val_accuracy: 0.2213\n",
      "Epoch 4/50\n",
      "1848/1848 [==============================] - 43s 23ms/step - loss: 2.6971 - accuracy: 0.3717 - val_loss: 3.6234 - val_accuracy: 0.2464\n",
      "Epoch 5/50\n",
      "1848/1848 [==============================] - 44s 24ms/step - loss: 2.6137 - accuracy: 0.3872 - val_loss: 3.6466 - val_accuracy: 0.2478\n",
      "Epoch 6/50\n",
      "1848/1848 [==============================] - 43s 23ms/step - loss: 2.5246 - accuracy: 0.4010 - val_loss: 3.6659 - val_accuracy: 0.2526\n",
      "Epoch 7/50\n",
      "1848/1848 [==============================] - 43s 23ms/step - loss: 2.4447 - accuracy: 0.4156 - val_loss: 3.7074 - val_accuracy: 0.2476\n",
      "Epoch 8/50\n",
      "1848/1848 [==============================] - 44s 24ms/step - loss: 2.3688 - accuracy: 0.4309 - val_loss: 3.6824 - val_accuracy: 0.2593\n",
      "Epoch 9/50\n",
      "1848/1848 [==============================] - 44s 24ms/step - loss: 2.2919 - accuracy: 0.4469 - val_loss: 3.7522 - val_accuracy: 0.2486\n",
      "Epoch 10/50\n",
      "1848/1848 [==============================] - 43s 23ms/step - loss: 2.2135 - accuracy: 0.4593 - val_loss: 3.7608 - val_accuracy: 0.2532\n",
      "Epoch 11/50\n",
      "1848/1848 [==============================] - 44s 24ms/step - loss: 2.1572 - accuracy: 0.4699 - val_loss: 3.7723 - val_accuracy: 0.2534\n",
      "Epoch 12/50\n",
      "1848/1848 [==============================] - 44s 24ms/step - loss: 2.0867 - accuracy: 0.4814 - val_loss: 3.7819 - val_accuracy: 0.2576\n",
      "Epoch 13/50\n",
      "1848/1848 [==============================] - 42s 23ms/step - loss: 2.0113 - accuracy: 0.5023 - val_loss: 4.0076 - val_accuracy: 0.2353\n",
      "Epoch 14/50\n",
      "1848/1848 [==============================] - 42s 23ms/step - loss: 1.9547 - accuracy: 0.5094 - val_loss: 3.9829 - val_accuracy: 0.2504\n",
      "Epoch 15/50\n",
      "1848/1848 [==============================] - 42s 23ms/step - loss: 1.8948 - accuracy: 0.5218 - val_loss: 4.2151 - val_accuracy: 0.2210\n",
      "Epoch 16/50\n",
      "1848/1848 [==============================] - 42s 22ms/step - loss: 1.8365 - accuracy: 0.5342 - val_loss: 3.9611 - val_accuracy: 0.2581\n",
      "Epoch 17/50\n",
      "1848/1848 [==============================] - 42s 23ms/step - loss: 1.7872 - accuracy: 0.5435 - val_loss: 4.0771 - val_accuracy: 0.2527\n",
      "Epoch 18/50\n",
      "1848/1848 [==============================] - 44s 24ms/step - loss: 1.7341 - accuracy: 0.5524 - val_loss: 4.0196 - val_accuracy: 0.2618\n",
      "Epoch 19/50\n",
      "1848/1848 [==============================] - 42s 23ms/step - loss: 1.6652 - accuracy: 0.5694 - val_loss: 4.0764 - val_accuracy: 0.2561\n",
      "Epoch 20/50\n",
      "1848/1848 [==============================] - 43s 23ms/step - loss: 1.6354 - accuracy: 0.5715 - val_loss: 4.2613 - val_accuracy: 0.2413\n",
      "Epoch 21/50\n",
      "1848/1848 [==============================] - 42s 23ms/step - loss: 1.5974 - accuracy: 0.5804 - val_loss: 4.1309 - val_accuracy: 0.2659\n",
      "Epoch 22/50\n",
      "1848/1848 [==============================] - 43s 23ms/step - loss: 1.5233 - accuracy: 0.5995 - val_loss: 4.1039 - val_accuracy: 0.2590\n",
      "Epoch 23/50\n",
      "1848/1848 [==============================] - 42s 23ms/step - loss: 1.4822 - accuracy: 0.6087 - val_loss: 4.1815 - val_accuracy: 0.2665\n",
      "Epoch 24/50\n",
      "1848/1848 [==============================] - 43s 23ms/step - loss: 1.4358 - accuracy: 0.6185 - val_loss: 4.1205 - val_accuracy: 0.2641\n",
      "Epoch 25/50\n",
      "1848/1848 [==============================] - 44s 24ms/step - loss: 1.3875 - accuracy: 0.6310 - val_loss: 4.4637 - val_accuracy: 0.2307\n",
      "Epoch 26/50\n",
      "1848/1848 [==============================] - 42s 23ms/step - loss: 1.3487 - accuracy: 0.6377 - val_loss: 4.3601 - val_accuracy: 0.2603\n",
      "Epoch 27/50\n",
      "1848/1848 [==============================] - 43s 23ms/step - loss: 1.3052 - accuracy: 0.6463 - val_loss: 4.3191 - val_accuracy: 0.2666\n",
      "Epoch 28/50\n",
      "1848/1848 [==============================] - 43s 23ms/step - loss: 1.2609 - accuracy: 0.6561 - val_loss: 4.5350 - val_accuracy: 0.2536\n",
      "Epoch 29/50\n",
      "1848/1848 [==============================] - 41s 22ms/step - loss: 1.2212 - accuracy: 0.6661 - val_loss: 4.5241 - val_accuracy: 0.2474\n",
      "Epoch 30/50\n",
      "1848/1848 [==============================] - 41s 22ms/step - loss: 1.1958 - accuracy: 0.6717 - val_loss: 4.3768 - val_accuracy: 0.2696\n",
      "Epoch 31/50\n",
      "1848/1848 [==============================] - 41s 22ms/step - loss: 1.1480 - accuracy: 0.6823 - val_loss: 4.4616 - val_accuracy: 0.2592\n",
      "Epoch 32/50\n",
      "1848/1848 [==============================] - 41s 22ms/step - loss: 1.1203 - accuracy: 0.6904 - val_loss: 4.4388 - val_accuracy: 0.2668\n",
      "Epoch 33/50\n",
      "1848/1848 [==============================] - 41s 22ms/step - loss: 1.0679 - accuracy: 0.7015 - val_loss: 4.6239 - val_accuracy: 0.2598\n",
      "Epoch 34/50\n",
      "1848/1848 [==============================] - 41s 22ms/step - loss: 1.0341 - accuracy: 0.7100 - val_loss: 4.5071 - val_accuracy: 0.2686\n",
      "Epoch 35/50\n",
      "1848/1848 [==============================] - 41s 22ms/step - loss: 1.0161 - accuracy: 0.7126 - val_loss: 4.5716 - val_accuracy: 0.2680\n",
      "Epoch 36/50\n",
      "1848/1848 [==============================] - 41s 22ms/step - loss: 0.9645 - accuracy: 0.7280 - val_loss: 4.5826 - val_accuracy: 0.2732\n",
      "Epoch 37/50\n",
      "1848/1848 [==============================] - 41s 22ms/step - loss: 0.9371 - accuracy: 0.7335 - val_loss: 4.5904 - val_accuracy: 0.2769\n",
      "Epoch 38/50\n",
      "1848/1848 [==============================] - 41s 22ms/step - loss: 0.8991 - accuracy: 0.7451 - val_loss: 4.7085 - val_accuracy: 0.2803\n",
      "Epoch 39/50\n",
      "1848/1848 [==============================] - 41s 22ms/step - loss: 0.8685 - accuracy: 0.7519 - val_loss: 4.7286 - val_accuracy: 0.2650\n",
      "Epoch 40/50\n",
      "1848/1848 [==============================] - 41s 22ms/step - loss: 0.8467 - accuracy: 0.7573 - val_loss: 4.6583 - val_accuracy: 0.2785\n",
      "Epoch 41/50\n",
      "1848/1848 [==============================] - 42s 23ms/step - loss: 0.8265 - accuracy: 0.7609 - val_loss: 4.7788 - val_accuracy: 0.2746\n",
      "Epoch 42/50\n",
      "1848/1848 [==============================] - 42s 23ms/step - loss: 0.7958 - accuracy: 0.7704 - val_loss: 4.7384 - val_accuracy: 0.2779\n",
      "Epoch 43/50\n",
      "1848/1848 [==============================] - 42s 23ms/step - loss: 0.7603 - accuracy: 0.7790 - val_loss: 4.8201 - val_accuracy: 0.2848\n",
      "Epoch 44/50\n",
      "1848/1848 [==============================] - 42s 23ms/step - loss: 0.7368 - accuracy: 0.7861 - val_loss: 4.8745 - val_accuracy: 0.2804\n",
      "Epoch 45/50\n",
      "1848/1848 [==============================] - 42s 23ms/step - loss: 0.7182 - accuracy: 0.7910 - val_loss: 4.9729 - val_accuracy: 0.2808\n",
      "Epoch 46/50\n",
      "1848/1848 [==============================] - 42s 23ms/step - loss: 0.6888 - accuracy: 0.7989 - val_loss: 4.9232 - val_accuracy: 0.2762\n",
      "Epoch 47/50\n",
      "1848/1848 [==============================] - 43s 23ms/step - loss: 0.6698 - accuracy: 0.8016 - val_loss: 4.9777 - val_accuracy: 0.2750\n",
      "Epoch 48/50\n",
      "1848/1848 [==============================] - 42s 23ms/step - loss: 0.6615 - accuracy: 0.8047 - val_loss: 4.9812 - val_accuracy: 0.2847\n",
      "Epoch 49/50\n",
      "1848/1848 [==============================] - 44s 24ms/step - loss: 0.6199 - accuracy: 0.8184 - val_loss: 4.8371 - val_accuracy: 0.2900\n",
      "Epoch 50/50\n",
      "1848/1848 [==============================] - 44s 24ms/step - loss: 0.6154 - accuracy: 0.8164 - val_loss: 4.9554 - val_accuracy: 0.2883\n"
     ]
    },
    {
     "data": {
      "text/plain": [
       "<tensorflow.python.keras.callbacks.History at 0x295bfcfa048>"
      ]
     },
     "execution_count": 42,
     "metadata": {},
     "output_type": "execute_result"
    }
   ],
   "source": [
    "optimizer = tf.keras.optimizers.SGD(learning_rate=0.01)\n",
    "\n",
    "net.compile(optimizer=optimizer,\n",
    "            loss='sparse_categorical_crossentropy',\n",
    "            metrics=['accuracy'])\n",
    "\n",
    "epochs = 50\n",
    "batch_size = 32\n",
    "\n",
    "net.fit(train_generator,\n",
    "        steps_per_epoch=train_generator.n // train_generator.batch_size,\n",
    "        validation_data=valid_generator,\n",
    "        validation_steps=valid_generator.n // valid_generator.batch_size,\n",
    "        epochs=epochs,\n",
    "        verbose=1)"
   ]
  },
  {
   "cell_type": "code",
   "execution_count": 43,
   "metadata": {},
   "outputs": [
    {
     "name": "stdout",
     "output_type": "stream",
     "text": [
      "577/577 [==============================] - 10s 18ms/step - loss: 4.9650 - accuracy: 0.2865\n"
     ]
    },
    {
     "data": {
      "text/plain": [
       "0.28650346398353577"
      ]
     },
     "execution_count": 43,
     "metadata": {},
     "output_type": "execute_result"
    }
   ],
   "source": [
    "loss, acc = net.evaluate(test_generator, steps=test_generator.n // test_generator.batch_size)\n",
    "acc"
   ]
  },
  {
   "cell_type": "markdown",
   "metadata": {},
   "source": [
    "再加上early stopping进行过拟合的问题的处理："
   ]
  },
  {
   "cell_type": "code",
   "execution_count": 44,
   "metadata": {},
   "outputs": [],
   "source": [
    "# 这里的patience表示当10轮之后val_loss还是没有提高，就提前终止训练\n",
    "from tensorflow import keras\n",
    "early_stop = keras.callbacks.EarlyStopping(monitor='val_loss', patience=10)"
   ]
  },
  {
   "cell_type": "code",
   "execution_count": 45,
   "metadata": {},
   "outputs": [
    {
     "name": "stdout",
     "output_type": "stream",
     "text": [
      "Epoch 1/50\n",
      "1848/1848 [==============================] - 43s 23ms/step - loss: 3.1447 - accuracy: 0.2805 - val_loss: 4.9844 - val_accuracy: 0.1280\n",
      "Epoch 2/50\n",
      "1848/1848 [==============================] - 43s 23ms/step - loss: 2.6840 - accuracy: 0.3527 - val_loss: 4.0914 - val_accuracy: 0.2140\n",
      "Epoch 3/50\n",
      "1848/1848 [==============================] - 45s 24ms/step - loss: 2.4509 - accuracy: 0.3979 - val_loss: 4.0611 - val_accuracy: 0.2294\n",
      "Epoch 4/50\n",
      "1848/1848 [==============================] - 43s 23ms/step - loss: 2.2706 - accuracy: 0.4331 - val_loss: 3.9183 - val_accuracy: 0.2451\n",
      "Epoch 5/50\n",
      "1848/1848 [==============================] - 44s 24ms/step - loss: 2.1250 - accuracy: 0.4612 - val_loss: 4.4007 - val_accuracy: 0.2045\n",
      "Epoch 6/50\n",
      "1848/1848 [==============================] - 43s 23ms/step - loss: 1.9949 - accuracy: 0.4906 - val_loss: 3.9324 - val_accuracy: 0.2633\n",
      "Epoch 7/50\n",
      "1848/1848 [==============================] - 43s 23ms/step - loss: 1.8756 - accuracy: 0.5146 - val_loss: 3.9375 - val_accuracy: 0.2648\n",
      "Epoch 8/50\n",
      "1848/1848 [==============================] - 47s 25ms/step - loss: 1.7629 - accuracy: 0.5372 - val_loss: 4.0500 - val_accuracy: 0.2618\n",
      "Epoch 9/50\n",
      "1848/1848 [==============================] - 43s 23ms/step - loss: 1.6546 - accuracy: 0.5626 - val_loss: 4.1200 - val_accuracy: 0.2725\n",
      "Epoch 10/50\n",
      "1848/1848 [==============================] - 42s 23ms/step - loss: 1.5592 - accuracy: 0.5823 - val_loss: 4.1326 - val_accuracy: 0.2702\n",
      "Epoch 11/50\n",
      "1848/1848 [==============================] - 41s 22ms/step - loss: 1.4697 - accuracy: 0.6030 - val_loss: 4.5120 - val_accuracy: 0.2383\n",
      "Epoch 12/50\n",
      "1848/1848 [==============================] - 41s 22ms/step - loss: 1.3769 - accuracy: 0.6238 - val_loss: 4.0578 - val_accuracy: 0.2896\n",
      "Epoch 13/50\n",
      "1848/1848 [==============================] - 41s 22ms/step - loss: 1.2921 - accuracy: 0.6430 - val_loss: 4.2728 - val_accuracy: 0.2823\n",
      "Epoch 14/50\n",
      "1848/1848 [==============================] - 42s 23ms/step - loss: 1.2235 - accuracy: 0.6586 - val_loss: 4.3743 - val_accuracy: 0.2798\n"
     ]
    }
   ],
   "source": [
    "optimizer = tf.keras.optimizers.SGD(learning_rate=0.05)\n",
    "\n",
    "net.compile(optimizer=optimizer,\n",
    "            loss='sparse_categorical_crossentropy',\n",
    "            metrics=['accuracy'])\n",
    "\n",
    "epochs = 50\n",
    "batch_size = 32\n",
    "\n",
    "history = net.fit(train_generator,\n",
    "        steps_per_epoch=train_generator.n // train_generator.batch_size,\n",
    "        validation_data=valid_generator,\n",
    "        validation_steps=valid_generator.n // valid_generator.batch_size,\n",
    "        epochs=epochs,\n",
    "        verbose=1,\n",
    "        callbacks=[early_stop])"
   ]
  },
  {
   "cell_type": "code",
   "execution_count": 46,
   "metadata": {},
   "outputs": [],
   "source": [
    "import matplotlib\n",
    "%matplotlib inline"
   ]
  },
  {
   "cell_type": "code",
   "execution_count": 47,
   "metadata": {},
   "outputs": [],
   "source": [
    "import matplotlib.pyplot as plt\n",
    "\n",
    "def plot_history(history):\n",
    "    hist = pd.DataFrame(history.history)\n",
    "    hist['epoch'] = history.epoch\n",
    "\n",
    "    plt.figure()\n",
    "    plt.xlabel('Epoch')\n",
    "    plt.ylabel('Loss')\n",
    "    plt.plot(hist['epoch'], hist['loss'],\n",
    "             label='Train Loss')\n",
    "    plt.plot(hist['epoch'], hist['val_loss'],\n",
    "             label = 'Val Loss')\n",
    "    plt.legend()\n",
    "\n",
    "    plt.figure()\n",
    "    plt.xlabel('Epoch')\n",
    "    plt.ylabel('Accuracy')\n",
    "    plt.plot(hist['epoch'], hist['accuracy'],\n",
    "             label='Train Accuracy')\n",
    "    plt.plot(hist['epoch'], hist['val_accuracy'],\n",
    "             label = 'Val Accuracy')\n",
    "    plt.legend()\n",
    "    plt.show()"
   ]
  },
  {
   "cell_type": "code",
   "execution_count": 48,
   "metadata": {},
   "outputs": [
    {
     "data": {
      "image/png": "[encoded data removed]",
      "text/plain": [
       "<Figure size 432x288 with 1 Axes>"
      ]
     },
     "metadata": {
      "needs_background": "light"
     },
     "output_type": "display_data"
    },
    {
     "data": {
      "image/png": "[encoded data removed]",
      "text/plain": [
       "<Figure size 432x288 with 1 Axes>"
      ]
     },
     "metadata": {
      "needs_background": "light"
     },
     "output_type": "display_data"
    }
   ],
   "source": [
    "import pandas as pd\n",
    "hist = pd.DataFrame(history.history)\n",
    "hist['epoch'] = history.epoch\n",
    "plot_history(history)"
   ]
  },
  {
   "cell_type": "code",
   "execution_count": 49,
   "metadata": {},
   "outputs": [
    {
     "name": "stdout",
     "output_type": "stream",
     "text": [
      "577/577 [==============================] - 10s 18ms/step - loss: 4.3371 - accuracy: 0.2811\n"
     ]
    },
    {
     "data": {
      "text/plain": [
       "0.2811416685581207"
      ]
     },
     "execution_count": 49,
     "metadata": {},
     "output_type": "execute_result"
    }
   ],
   "source": [
    "loss, acc = net.evaluate(test_generator, steps=test_generator.n // test_generator.batch_size)\n",
    "acc"
   ]
  },
  {
   "cell_type": "markdown",
   "metadata": {},
   "source": [
    "接下来尝试 https://keras.io/api/applications/ 中列出的其他模型，注意有些模型对于输入的尺寸要求大于(32,32)，在使用的过程中要根据相应的报错信息或者模型的说明进行修改。"
   ]
  },
  {
   "cell_type": "code",
   "execution_count": 50,
   "metadata": {},
   "outputs": [
    {
     "name": "stdout",
     "output_type": "stream",
     "text": [
      "Epoch 1/50\n",
      "1848/1848 [==============================] - 42s 23ms/step - loss: 0.6016 - accuracy: 0.8317 - val_loss: 3.9390 - val_accuracy: 0.3567\n",
      "Epoch 2/50\n",
      "1848/1848 [==============================] - 41s 22ms/step - loss: 0.4058 - accuracy: 0.8864 - val_loss: 4.0750 - val_accuracy: 0.3614\n",
      "Epoch 3/50\n",
      "1848/1848 [==============================] - 41s 22ms/step - loss: 0.3247 - accuracy: 0.9101 - val_loss: 4.1898 - val_accuracy: 0.3628\n",
      "Epoch 4/50\n",
      "1848/1848 [==============================] - 41s 22ms/step - loss: 0.2773 - accuracy: 0.9237 - val_loss: 4.2371 - val_accuracy: 0.3672\n",
      "Epoch 5/50\n",
      "1848/1848 [==============================] - 42s 23ms/step - loss: 0.2440 - accuracy: 0.9335 - val_loss: 4.3337 - val_accuracy: 0.3679\n",
      "Epoch 6/50\n",
      "1848/1848 [==============================] - 42s 23ms/step - loss: 0.2200 - accuracy: 0.9414 - val_loss: 4.3957 - val_accuracy: 0.3686\n",
      "Epoch 7/50\n",
      "1848/1848 [==============================] - 41s 22ms/step - loss: 0.2005 - accuracy: 0.9460 - val_loss: 4.4545 - val_accuracy: 0.3652\n",
      "Epoch 8/50\n",
      "1848/1848 [==============================] - 42s 22ms/step - loss: 0.1823 - accuracy: 0.9513 - val_loss: 4.5255 - val_accuracy: 0.3678\n",
      "Epoch 9/50\n",
      "1848/1848 [==============================] - 42s 23ms/step - loss: 0.1697 - accuracy: 0.9549 - val_loss: 4.5562 - val_accuracy: 0.3659\n",
      "Epoch 10/50\n",
      "1848/1848 [==============================] - 43s 23ms/step - loss: 0.1565 - accuracy: 0.9591 - val_loss: 4.6100 - val_accuracy: 0.3669\n",
      "Epoch 11/50\n",
      "1848/1848 [==============================] - 44s 24ms/step - loss: 0.1495 - accuracy: 0.9609 - val_loss: 4.6403 - val_accuracy: 0.3666\n"
     ]
    }
   ],
   "source": [
    "optimizer = tf.keras.optimizers.SGD(learning_rate=0.01)\n",
    "\n",
    "net.compile(optimizer=optimizer,\n",
    "            loss='sparse_categorical_crossentropy',\n",
    "            metrics=['accuracy'])\n",
    "\n",
    "epochs = 50\n",
    "batch_size = 32\n",
    "\n",
    "history = net.fit(train_generator,\n",
    "        steps_per_epoch=train_generator.n // train_generator.batch_size,\n",
    "        validation_data=valid_generator,\n",
    "        validation_steps=valid_generator.n // valid_generator.batch_size,\n",
    "        epochs=epochs,\n",
    "        verbose=1,\n",
    "        callbacks=[early_stop])"
   ]
  },
  {
   "cell_type": "code",
   "execution_count": 51,
   "metadata": {},
   "outputs": [
    {
     "name": "stdout",
     "output_type": "stream",
     "text": [
      "577/577 [==============================] - 11s 19ms/step - loss: 4.6384 - accuracy: 0.3696\n"
     ]
    },
    {
     "data": {
      "text/plain": [
       "0.3695840537548065"
      ]
     },
     "execution_count": 51,
     "metadata": {},
     "output_type": "execute_result"
    }
   ],
   "source": [
    "loss, acc = net.evaluate(test_generator, steps=test_generator.n // test_generator.batch_size)\n",
    "acc"
   ]
  }
 ],
 "metadata": {
  "kernelspec": {
   "display_name": "Python 3",
   "language": "python",
   "name": "python3"
  },
  "language_info": {
   "codemirror_mode": {
    "name": "ipython",
    "version": 3
   },
   "file_extension": ".py",
   "mimetype": "text/x-python",
   "name": "python",
   "nbconvert_exporter": "python",
   "pygments_lexer": "ipython3",
   "version": "3.7.3"
  }
 },
 "nbformat": 4,
 "nbformat_minor": 4
}
