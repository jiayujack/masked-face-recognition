{
 "cells": [
  {
   "cell_type": "markdown",
   "metadata": {},
   "source": [
    "# 1. 载入数据"
   ]
  },
  {
   "cell_type": "markdown",
   "metadata": {},
   "source": [
    "首先记得指明你的data_dir："
   ]
  },
  {
   "cell_type": "code",
   "execution_count": 1,
   "metadata": {},
   "outputs": [],
   "source": [
    "# data_dir = './data/self-built-masked-face-recognition-dataset/AFDB_face_dataset/'\n",
    "data_dir = 'F:/Projects/FaceMaskDetection/RMFD/self-built-masked-face-recognition-dataset/AFDB_face_dataset/'\n",
    "masked_data_dir = 'F:/Projects/FaceMaskDetection/RMFD/self-built-masked-face-recognition-dataset/AFDB_masked_face_dataset/'"
   ]
  },
  {
   "cell_type": "code",
   "execution_count": 2,
   "metadata": {},
   "outputs": [],
   "source": [
    "import os\n",
    "import cv2\n",
    "from tqdm import tqdm\n",
    "from tensorflow.keras.layers import *\n",
    "from tensorflow.keras.models import *\n",
    "from tensorflow.keras.callbacks import *\n",
    "from tensorflow.keras.optimizers import *\n",
    "from tensorflow.keras.applications import *\n",
    "from tensorflow.keras.preprocessing.image import *"
   ]
  },
  {
   "cell_type": "code",
   "execution_count": 3,
   "metadata": {},
   "outputs": [],
   "source": [
    "X_list = []\n",
    "y_list = []\n",
    "labels = os.listdir(data_dir)\n",
    "for label in labels:\n",
    "    fns = os.listdir(data_dir + '/' + label)\n",
    "    for fn in fns:\n",
    "        X_list.append(data_dir + '/' + label + '/' + fn)\n",
    "        y_list.append(label)"
   ]
  },
  {
   "cell_type": "code",
   "execution_count": 4,
   "metadata": {},
   "outputs": [
    {
     "data": {
      "text/plain": [
       "90468"
      ]
     },
     "execution_count": 4,
     "metadata": {},
     "output_type": "execute_result"
    }
   ],
   "source": [
    "len(X_list)"
   ]
  },
  {
   "cell_type": "code",
   "execution_count": 5,
   "metadata": {},
   "outputs": [
    {
     "data": {
      "text/plain": [
       "'F:/Projects/FaceMaskDetection/RMFD/self-built-masked-face-recognition-dataset/AFDB_face_dataset//aidai/0_0_aidai_0014.jpg'"
      ]
     },
     "execution_count": 5,
     "metadata": {},
     "output_type": "execute_result"
    }
   ],
   "source": [
    "X_list[0]"
   ]
  },
  {
   "cell_type": "code",
   "execution_count": 6,
   "metadata": {},
   "outputs": [
    {
     "data": {
      "text/plain": [
       "'aidai'"
      ]
     },
     "execution_count": 6,
     "metadata": {},
     "output_type": "execute_result"
    }
   ],
   "source": [
    "y_list[0]"
   ]
  },
  {
   "cell_type": "code",
   "execution_count": 7,
   "metadata": {},
   "outputs": [],
   "source": [
    "img_path = X_list[0]\n",
    "size = 32\n",
    "X = (cv2.resize(cv2.imread(img_path), (size, size))[:, :, ::-1].copy())"
   ]
  },
  {
   "cell_type": "code",
   "execution_count": 8,
   "metadata": {},
   "outputs": [
    {
     "data": {
      "text/plain": [
       "(32, 32, 3)"
      ]
     },
     "execution_count": 8,
     "metadata": {},
     "output_type": "execute_result"
    }
   ],
   "source": [
    "X.shape"
   ]
  },
  {
   "cell_type": "code",
   "execution_count": 9,
   "metadata": {},
   "outputs": [
    {
     "data": {
      "text/plain": [
       "<matplotlib.image.AxesImage at 0x1f579f03da0>"
      ]
     },
     "execution_count": 9,
     "metadata": {},
     "output_type": "execute_result"
    },
    {
     "data": {
      "image/png": "[encoded data removed]",
      "text/plain": [
       "<Figure size 432x288 with 1 Axes>"
      ]
     },
     "metadata": {
      "needs_background": "light"
     },
     "output_type": "display_data"
    }
   ],
   "source": [
    "import matplotlib.pyplot as plt\n",
    "%matplotlib inline\n",
    "plt.imshow(X)"
   ]
  },
  {
   "cell_type": "markdown",
   "metadata": {},
   "source": [
    "可以看到没有口罩的数据集中，一共是有460个不同的人。如果是之后还要用到有口罩的数据集，那里面是525人，最好取一下交集。"
   ]
  },
  {
   "cell_type": "code",
   "execution_count": 10,
   "metadata": {},
   "outputs": [
    {
     "data": {
      "text/plain": [
       "460"
      ]
     },
     "execution_count": 10,
     "metadata": {},
     "output_type": "execute_result"
    }
   ],
   "source": [
    "len(set(y_list))"
   ]
  },
  {
   "cell_type": "markdown",
   "metadata": {},
   "source": [
    "**接下来在这里叠加有口罩的情况，注意我们只使用之前已经存在的人名，因为 没有口罩的总人数是460，而有口罩的总人数是525，我们取了交集，也就是只使用460个人的图片**"
   ]
  },
  {
   "cell_type": "code",
   "execution_count": 11,
   "metadata": {},
   "outputs": [
    {
     "data": {
      "text/plain": [
       "90468"
      ]
     },
     "execution_count": 11,
     "metadata": {},
     "output_type": "execute_result"
    }
   ],
   "source": [
    "len(X_list)"
   ]
  },
  {
   "cell_type": "code",
   "execution_count": 12,
   "metadata": {},
   "outputs": [
    {
     "name": "stdout",
     "output_type": "stream",
     "text": [
      "hewenhui not exists\n",
      "wangzhiwen not exists\n",
      "liwen not exists\n",
      "linyilun not exists\n",
      "yufeihong not exists\n",
      "fuxinbo not exists\n",
      "hedujuan not exists\n",
      "zhongjiaxin not exists\n",
      "liupinyan not exists\n",
      "yufeng not exists\n",
      "hejunxiang not exists\n",
      "zhangzhenyue not exists\n",
      "liaofan not exists\n",
      "gaohu not exists\n",
      "hudie not exists\n",
      "dongchengpeng not exists\n",
      "tanlina not exists\n",
      "linyilian not exists\n"
     ]
    }
   ],
   "source": [
    "# 只使用之前已经有的460个人的图片\n",
    "for label in set(y_list):\n",
    "    try:\n",
    "        fns = os.listdir(masked_data_dir + '/' + label)\n",
    "        for fn in fns:\n",
    "            X_list.append(masked_data_dir + '/' + label + '/' + fn)\n",
    "            y_list.append(label)\n",
    "    except:\n",
    "        print(label, 'not exists')"
   ]
  },
  {
   "cell_type": "code",
   "execution_count": 13,
   "metadata": {},
   "outputs": [
    {
     "data": {
      "text/plain": [
       "92413"
      ]
     },
     "execution_count": 13,
     "metadata": {},
     "output_type": "execute_result"
    }
   ],
   "source": [
    "len(X_list)"
   ]
  },
  {
   "cell_type": "markdown",
   "metadata": {},
   "source": [
    "**可以看到多了2000张图片。**下面的流程是类似的。"
   ]
  },
  {
   "cell_type": "code",
   "execution_count": 14,
   "metadata": {},
   "outputs": [],
   "source": [
    "import pandas as pd\n",
    "df = pd.DataFrame({'X': X_list, 'y_name': y_list}, index=range(len(X_list)))"
   ]
  },
  {
   "cell_type": "code",
   "execution_count": 15,
   "metadata": {},
   "outputs": [
    {
     "data": {
      "text/html": [
       "<div>\n",
       "<style scoped>\n",
       "    .dataframe tbody tr th:only-of-type {\n",
       "        vertical-align: middle;\n",
       "    }\n",
       "\n",
       "    .dataframe tbody tr th {\n",
       "        vertical-align: top;\n",
       "    }\n",
       "\n",
       "    .dataframe thead th {\n",
       "        text-align: right;\n",
       "    }\n",
       "</style>\n",
       "<table border=\"1\" class=\"dataframe\">\n",
       "  <thead>\n",
       "    <tr style=\"text-align: right;\">\n",
       "      <th></th>\n",
       "      <th>X</th>\n",
       "      <th>y_name</th>\n",
       "    </tr>\n",
       "  </thead>\n",
       "  <tbody>\n",
       "    <tr>\n",
       "      <th>0</th>\n",
       "      <td>F:/Projects/FaceMaskDetection/RMFD/self-built-...</td>\n",
       "      <td>aidai</td>\n",
       "    </tr>\n",
       "    <tr>\n",
       "      <th>1</th>\n",
       "      <td>F:/Projects/FaceMaskDetection/RMFD/self-built-...</td>\n",
       "      <td>aidai</td>\n",
       "    </tr>\n",
       "    <tr>\n",
       "      <th>2</th>\n",
       "      <td>F:/Projects/FaceMaskDetection/RMFD/self-built-...</td>\n",
       "      <td>aidai</td>\n",
       "    </tr>\n",
       "    <tr>\n",
       "      <th>3</th>\n",
       "      <td>F:/Projects/FaceMaskDetection/RMFD/self-built-...</td>\n",
       "      <td>aidai</td>\n",
       "    </tr>\n",
       "    <tr>\n",
       "      <th>4</th>\n",
       "      <td>F:/Projects/FaceMaskDetection/RMFD/self-built-...</td>\n",
       "      <td>aidai</td>\n",
       "    </tr>\n",
       "  </tbody>\n",
       "</table>\n",
       "</div>"
      ],
      "text/plain": [
       "                                                   X y_name\n",
       "0  F:/Projects/FaceMaskDetection/RMFD/self-built-...  aidai\n",
       "1  F:/Projects/FaceMaskDetection/RMFD/self-built-...  aidai\n",
       "2  F:/Projects/FaceMaskDetection/RMFD/self-built-...  aidai\n",
       "3  F:/Projects/FaceMaskDetection/RMFD/self-built-...  aidai\n",
       "4  F:/Projects/FaceMaskDetection/RMFD/self-built-...  aidai"
      ]
     },
     "execution_count": 15,
     "metadata": {},
     "output_type": "execute_result"
    }
   ],
   "source": [
    "df.head()"
   ]
  },
  {
   "cell_type": "markdown",
   "metadata": {},
   "source": [
    "把y这个类别转换为数字编码的标签："
   ]
  },
  {
   "cell_type": "code",
   "execution_count": 16,
   "metadata": {},
   "outputs": [],
   "source": [
    "from sklearn.preprocessing import LabelEncoder\n",
    "encoder = LabelEncoder()\n",
    "df['y'] = encoder.fit_transform(df['y_name'])"
   ]
  },
  {
   "cell_type": "code",
   "execution_count": 17,
   "metadata": {},
   "outputs": [
    {
     "data": {
      "text/html": [
       "<div>\n",
       "<style scoped>\n",
       "    .dataframe tbody tr th:only-of-type {\n",
       "        vertical-align: middle;\n",
       "    }\n",
       "\n",
       "    .dataframe tbody tr th {\n",
       "        vertical-align: top;\n",
       "    }\n",
       "\n",
       "    .dataframe thead th {\n",
       "        text-align: right;\n",
       "    }\n",
       "</style>\n",
       "<table border=\"1\" class=\"dataframe\">\n",
       "  <thead>\n",
       "    <tr style=\"text-align: right;\">\n",
       "      <th></th>\n",
       "      <th>X</th>\n",
       "      <th>y_name</th>\n",
       "      <th>y</th>\n",
       "    </tr>\n",
       "  </thead>\n",
       "  <tbody>\n",
       "    <tr>\n",
       "      <th>0</th>\n",
       "      <td>F:/Projects/FaceMaskDetection/RMFD/self-built-...</td>\n",
       "      <td>aidai</td>\n",
       "      <td>0</td>\n",
       "    </tr>\n",
       "    <tr>\n",
       "      <th>1</th>\n",
       "      <td>F:/Projects/FaceMaskDetection/RMFD/self-built-...</td>\n",
       "      <td>aidai</td>\n",
       "      <td>0</td>\n",
       "    </tr>\n",
       "    <tr>\n",
       "      <th>2</th>\n",
       "      <td>F:/Projects/FaceMaskDetection/RMFD/self-built-...</td>\n",
       "      <td>aidai</td>\n",
       "      <td>0</td>\n",
       "    </tr>\n",
       "    <tr>\n",
       "      <th>3</th>\n",
       "      <td>F:/Projects/FaceMaskDetection/RMFD/self-built-...</td>\n",
       "      <td>aidai</td>\n",
       "      <td>0</td>\n",
       "    </tr>\n",
       "    <tr>\n",
       "      <th>4</th>\n",
       "      <td>F:/Projects/FaceMaskDetection/RMFD/self-built-...</td>\n",
       "      <td>aidai</td>\n",
       "      <td>0</td>\n",
       "    </tr>\n",
       "  </tbody>\n",
       "</table>\n",
       "</div>"
      ],
      "text/plain": [
       "                                                   X y_name  y\n",
       "0  F:/Projects/FaceMaskDetection/RMFD/self-built-...  aidai  0\n",
       "1  F:/Projects/FaceMaskDetection/RMFD/self-built-...  aidai  0\n",
       "2  F:/Projects/FaceMaskDetection/RMFD/self-built-...  aidai  0\n",
       "3  F:/Projects/FaceMaskDetection/RMFD/self-built-...  aidai  0\n",
       "4  F:/Projects/FaceMaskDetection/RMFD/self-built-...  aidai  0"
      ]
     },
     "execution_count": 17,
     "metadata": {},
     "output_type": "execute_result"
    }
   ],
   "source": [
    "df.head()"
   ]
  },
  {
   "cell_type": "code",
   "execution_count": 18,
   "metadata": {},
   "outputs": [
    {
     "data": {
      "text/plain": [
       "459"
      ]
     },
     "execution_count": 18,
     "metadata": {},
     "output_type": "execute_result"
    }
   ],
   "source": [
    "max(df['y'])"
   ]
  },
  {
   "cell_type": "code",
   "execution_count": 19,
   "metadata": {},
   "outputs": [],
   "source": [
    "num_classes = max(df['y']) + 1"
   ]
  },
  {
   "cell_type": "markdown",
   "metadata": {},
   "source": [
    "接下来进行数据集的划分："
   ]
  },
  {
   "cell_type": "code",
   "execution_count": 20,
   "metadata": {},
   "outputs": [],
   "source": [
    "from sklearn.model_selection import StratifiedShuffleSplit\n",
    "\n",
    "split = StratifiedShuffleSplit(n_splits=1, test_size=0.2, random_state=42)\n",
    "\n",
    "# 按照不同人进行分层采样\n",
    "# 尽量避免有人只出现在训练集或只出现在测试集的情况\n",
    "for train_index, test_index in split.split(df, df['y']):\n",
    "    strat_train_set = df.loc[train_index]\n",
    "    strat_test_set = df.loc[test_index]"
   ]
  },
  {
   "cell_type": "code",
   "execution_count": 21,
   "metadata": {},
   "outputs": [
    {
     "data": {
      "text/plain": [
       "(73930, 3)"
      ]
     },
     "execution_count": 21,
     "metadata": {},
     "output_type": "execute_result"
    }
   ],
   "source": [
    "strat_train_set.shape"
   ]
  },
  {
   "cell_type": "code",
   "execution_count": 22,
   "metadata": {},
   "outputs": [
    {
     "data": {
      "text/plain": [
       "(18483, 3)"
      ]
     },
     "execution_count": 22,
     "metadata": {},
     "output_type": "execute_result"
    }
   ],
   "source": [
    "strat_test_set.shape"
   ]
  },
  {
   "cell_type": "code",
   "execution_count": 23,
   "metadata": {},
   "outputs": [
    {
     "data": {
      "text/plain": [
       "(92413, 3)"
      ]
     },
     "execution_count": 23,
     "metadata": {},
     "output_type": "execute_result"
    }
   ],
   "source": [
    "df.shape"
   ]
  },
  {
   "cell_type": "code",
   "execution_count": 24,
   "metadata": {},
   "outputs": [
    {
     "data": {
      "text/plain": [
       "<matplotlib.axes._subplots.AxesSubplot at 0x1f57c622550>"
      ]
     },
     "execution_count": 24,
     "metadata": {},
     "output_type": "execute_result"
    },
    {
     "data": {
      "image/png": "[encoded data removed]",
      "text/plain": [
       "<Figure size 1440x1080 with 1 Axes>"
      ]
     },
     "metadata": {
      "needs_background": "light"
     },
     "output_type": "display_data"
    }
   ],
   "source": [
    "strat_train_set['y'].hist(bins=50, figsize=(20,15))"
   ]
  },
  {
   "cell_type": "code",
   "execution_count": 25,
   "metadata": {},
   "outputs": [
    {
     "data": {
      "text/plain": [
       "<matplotlib.axes._subplots.AxesSubplot at 0x1f57c6d7f98>"
      ]
     },
     "execution_count": 25,
     "metadata": {},
     "output_type": "execute_result"
    },
    {
     "data": {
      "image/png": "[encoded data removed]",
      "text/plain": [
       "<Figure size 1440x1080 with 1 Axes>"
      ]
     },
     "metadata": {
      "needs_background": "light"
     },
     "output_type": "display_data"
    }
   ],
   "source": [
    "strat_test_set['y'].hist(bins=50, figsize=(20,15))"
   ]
  },
  {
   "cell_type": "markdown",
   "metadata": {},
   "source": [
    "接下来利用ImageDataGenerator来准备训练用的generator"
   ]
  },
  {
   "cell_type": "code",
   "execution_count": 26,
   "metadata": {},
   "outputs": [],
   "source": [
    "from keras_preprocessing.image import ImageDataGenerator"
   ]
  },
  {
   "cell_type": "code",
   "execution_count": 27,
   "metadata": {},
   "outputs": [
    {
     "name": "stdout",
     "output_type": "stream",
     "text": [
      "Found 59144 validated image filenames belonging to 460 classes.\n",
      "Found 14786 validated image filenames belonging to 460 classes.\n"
     ]
    }
   ],
   "source": [
    "# 图像归一化\n",
    "# 并且划分20%的训练集数据作为验证集数据\n",
    "datagen=ImageDataGenerator(rescale=1./255, validation_split=0.2)\n",
    "\n",
    "# 设置小批量的大小\n",
    "batch_size = 16\n",
    "\n",
    "# 我们的dataframe中保存的路径足够\n",
    "# 否则还需要指明directory来表示文件存放的路径\n",
    "train_generator=datagen.flow_from_dataframe(dataframe=strat_train_set, \n",
    "                                            x_col='X',\n",
    "                                            y_col='y_name',\n",
    "                                            subset=\"training\",\n",
    "                                            seed=44,  # 随机数种子\n",
    "                                            class_mode=\"sparse\", # 直接使用文本标签\n",
    "                                            target_size=(224, 224),  # 这里把图片变小\n",
    "                                            batch_size=batch_size) # 内存不足可以调小batch_size\n",
    "\n",
    "# 划分\n",
    "valid_generator=datagen.flow_from_dataframe(dataframe=strat_train_set, \n",
    "                                            x_col='X',\n",
    "                                            y_col='y_name',\n",
    "                                            subset=\"validation\",\n",
    "                                            seed=44,  # 随机数种子\n",
    "                                            class_mode=\"sparse\", # 直接使用文本标签\n",
    "                                            target_size=(224, 224),  # 这里把图片变小\n",
    "                                            batch_size=batch_size) # 内存不足可以调小batch_size"
   ]
  },
  {
   "cell_type": "markdown",
   "metadata": {},
   "source": [
    "分布查看训练集和验证集的数据量："
   ]
  },
  {
   "cell_type": "code",
   "execution_count": 28,
   "metadata": {},
   "outputs": [
    {
     "data": {
      "text/plain": [
       "59144"
      ]
     },
     "execution_count": 28,
     "metadata": {},
     "output_type": "execute_result"
    }
   ],
   "source": [
    "train_generator.n"
   ]
  },
  {
   "cell_type": "code",
   "execution_count": 29,
   "metadata": {},
   "outputs": [
    {
     "data": {
      "text/plain": [
       "16"
      ]
     },
     "execution_count": 29,
     "metadata": {},
     "output_type": "execute_result"
    }
   ],
   "source": [
    "train_generator.batch_size"
   ]
  },
  {
   "cell_type": "code",
   "execution_count": 30,
   "metadata": {},
   "outputs": [
    {
     "data": {
      "text/plain": [
       "14786"
      ]
     },
     "execution_count": 30,
     "metadata": {},
     "output_type": "execute_result"
    }
   ],
   "source": [
    "valid_generator.n"
   ]
  },
  {
   "cell_type": "code",
   "execution_count": 31,
   "metadata": {},
   "outputs": [
    {
     "data": {
      "text/plain": [
       "16"
      ]
     },
     "execution_count": 31,
     "metadata": {},
     "output_type": "execute_result"
    }
   ],
   "source": [
    "valid_generator.batch_size"
   ]
  },
  {
   "cell_type": "code",
   "execution_count": 32,
   "metadata": {},
   "outputs": [
    {
     "name": "stdout",
     "output_type": "stream",
     "text": [
      "(16, 224, 224, 3)\n",
      "(16,)\n"
     ]
    }
   ],
   "source": [
    "for X_batch, y_batch in train_generator:\n",
    "    print(X_batch.shape)\n",
    "    print(y_batch.shape)\n",
    "    break"
   ]
  },
  {
   "cell_type": "code",
   "execution_count": 33,
   "metadata": {},
   "outputs": [
    {
     "data": {
      "text/plain": [
       "<matplotlib.image.AxesImage at 0x1f500c061d0>"
      ]
     },
     "execution_count": 33,
     "metadata": {},
     "output_type": "execute_result"
    },
    {
     "data": {
      "image/png": "[encoded data removed]",
      "text/plain": [
       "<Figure size 432x288 with 1 Axes>"
      ]
     },
     "metadata": {
      "needs_background": "light"
     },
     "output_type": "display_data"
    }
   ],
   "source": [
    "plt.imshow(X_batch[0])"
   ]
  },
  {
   "cell_type": "code",
   "execution_count": 34,
   "metadata": {},
   "outputs": [
    {
     "data": {
      "text/plain": [
       "114.0"
      ]
     },
     "execution_count": 34,
     "metadata": {},
     "output_type": "execute_result"
    }
   ],
   "source": [
    "y_batch[0]"
   ]
  },
  {
   "cell_type": "markdown",
   "metadata": {},
   "source": [
    "可以看到已经train_generator已经可以自动读取图像了"
   ]
  },
  {
   "cell_type": "markdown",
   "metadata": {},
   "source": [
    "类似的，我们构建test_generator"
   ]
  },
  {
   "cell_type": "code",
   "execution_count": 35,
   "metadata": {},
   "outputs": [
    {
     "name": "stdout",
     "output_type": "stream",
     "text": [
      "Found 18483 validated image filenames belonging to 460 classes.\n"
     ]
    }
   ],
   "source": [
    "# 图像归一化\n",
    "datagen=ImageDataGenerator(rescale=1./255)\n",
    "batch_size = 16\n",
    "\n",
    "# 我们的dataframe中保存的路径足够\n",
    "# 否则还需要指明directory来表示文件存放的路径\n",
    "test_generator=datagen.flow_from_dataframe(dataframe=strat_test_set, \n",
    "                                            x_col='X',\n",
    "                                            y_col='y_name',\n",
    "                                            class_mode=\"sparse\", # 直接使用文本标签\n",
    "                                            target_size=(224, 224),  # 这里把图片变小\n",
    "                                            batch_size=batch_size) # 内存不足可以调小batch_size"
   ]
  },
  {
   "cell_type": "code",
   "execution_count": 36,
   "metadata": {},
   "outputs": [
    {
     "data": {
      "text/plain": [
       "18483"
      ]
     },
     "execution_count": 36,
     "metadata": {},
     "output_type": "execute_result"
    }
   ],
   "source": [
    "test_generator.n"
   ]
  },
  {
   "cell_type": "code",
   "execution_count": 37,
   "metadata": {},
   "outputs": [
    {
     "data": {
      "text/plain": [
       "16"
      ]
     },
     "execution_count": 37,
     "metadata": {},
     "output_type": "execute_result"
    }
   ],
   "source": [
    "test_generator.batch_size"
   ]
  },
  {
   "cell_type": "markdown",
   "metadata": {},
   "source": [
    "# 2. 模型尝试"
   ]
  },
  {
   "cell_type": "code",
   "execution_count": 38,
   "metadata": {},
   "outputs": [],
   "source": [
    "from tensorflow.keras.applications import DenseNet201\n",
    "from tensorflow.keras.models import Model\n",
    "from tensorflow.keras.layers import Dense, GlobalAveragePooling2D\n",
    "# 不同电脑上keras配置文件最好都改成一致的，否则这里确认下\n",
    "import tensorflow as tf\n",
    "tf.keras.backend.set_image_data_format('channels_last')"
   ]
  },
  {
   "cell_type": "markdown",
   "metadata": {},
   "source": [
    "注意这里的输入是**(224, 224, 3)**"
   ]
  },
  {
   "cell_type": "code",
   "execution_count": 39,
   "metadata": {},
   "outputs": [],
   "source": [
    "# 先设置一个base model\n",
    "# 当我们使用预训练的权重时，必须要求输入3个通道，即RGB通道\n",
    "base_model = DenseNet201(input_shape=(224, 224, 3),  # MobileNet要求输入的尺寸不小于32，不同模型有不同要求\n",
    "                       include_top=False,  # 不使用最后一层，因为我们要按照具体的数据来设置最后一层的神经元个数\n",
    "                       weights=None)  # 这里我们不使用预训练过的权重，如果使用，图片尺寸最好变更大\n",
    "\n",
    "# 添加a global spatial average pooling layer\n",
    "x = base_model.output\n",
    "x = GlobalAveragePooling2D()(x)\n",
    "# 添加a fully-connected layer\n",
    "x = Dense(1024, activation='relu')(x)\n",
    "\n",
    "predictions = Dense(num_classes, activation='softmax')(x)\n",
    "\n",
    "# 我们最终会训练的模型\n",
    "net = Model(inputs=base_model.input, outputs=predictions)"
   ]
  },
  {
   "cell_type": "markdown",
   "metadata": {},
   "source": [
    "进行模型的训练："
   ]
  },
  {
   "cell_type": "markdown",
   "metadata": {},
   "source": [
    "再加上early stopping进行过拟合的问题的处理："
   ]
  },
  {
   "cell_type": "code",
   "execution_count": 40,
   "metadata": {},
   "outputs": [],
   "source": [
    "# 这里的patience表示当10轮之后val_loss还是没有提高，就提前终止训练\n",
    "from tensorflow import keras\n",
    "early_stop = keras.callbacks.EarlyStopping(monitor='val_loss', patience=10)"
   ]
  },
  {
   "cell_type": "code",
   "execution_count": 41,
   "metadata": {},
   "outputs": [
    {
     "name": "stdout",
     "output_type": "stream",
     "text": [
      "Epoch 1/50\n",
      "3696/3696 [==============================] - 791s 214ms/step - loss: 5.6888 - accuracy: 0.0118 - val_loss: 5.2313 - val_accuracy: 0.0212\n",
      "Epoch 2/50\n",
      "3696/3696 [==============================] - 805s 218ms/step - loss: 4.8872 - accuracy: 0.0481 - val_loss: 5.2209 - val_accuracy: 0.0371\n",
      "Epoch 3/50\n",
      "3696/3696 [==============================] - 802s 217ms/step - loss: 4.1783 - accuracy: 0.1252 - val_loss: 4.5386 - val_accuracy: 0.0961\n",
      "Epoch 4/50\n",
      "3696/3696 [==============================] - 805s 218ms/step - loss: 3.5529 - accuracy: 0.2201 - val_loss: 4.1013 - val_accuracy: 0.1588\n",
      "Epoch 5/50\n",
      "3696/3696 [==============================] - 800s 216ms/step - loss: 2.9896 - accuracy: 0.3206 - val_loss: 3.3751 - val_accuracy: 0.2659\n",
      "Epoch 6/50\n",
      "3696/3696 [==============================] - 776s 210ms/step - loss: 2.4777 - accuracy: 0.4233 - val_loss: 3.3774 - val_accuracy: 0.2644\n",
      "Epoch 7/50\n",
      "3696/3696 [==============================] - 768s 208ms/step - loss: 2.0530 - accuracy: 0.5117 - val_loss: 2.7088 - val_accuracy: 0.4156\n",
      "Epoch 8/50\n",
      "3696/3696 [==============================] - 787s 213ms/step - loss: 1.6990 - accuracy: 0.5908 - val_loss: 2.3915 - val_accuracy: 0.4750\n",
      "Epoch 9/50\n",
      "3696/3696 [==============================] - 777s 210ms/step - loss: 1.4120 - accuracy: 0.6538 - val_loss: 2.4887 - val_accuracy: 0.4537\n",
      "Epoch 10/50\n",
      "3696/3696 [==============================] - 771s 209ms/step - loss: 1.1661 - accuracy: 0.7095 - val_loss: 2.1350 - val_accuracy: 0.5524\n",
      "Epoch 11/50\n",
      "3696/3696 [==============================] - 771s 209ms/step - loss: 0.9707 - accuracy: 0.7550 - val_loss: 2.6674 - val_accuracy: 0.4645\n",
      "Epoch 12/50\n",
      "3696/3696 [==============================] - 771s 209ms/step - loss: 0.8084 - accuracy: 0.7914 - val_loss: 2.0329 - val_accuracy: 0.5683\n",
      "Epoch 13/50\n",
      "3696/3696 [==============================] - 798s 216ms/step - loss: 0.6627 - accuracy: 0.8240 - val_loss: 2.1410 - val_accuracy: 0.5606\n",
      "Epoch 14/50\n",
      "3696/3696 [==============================] - 772s 209ms/step - loss: 0.5476 - accuracy: 0.8529 - val_loss: 2.4469 - val_accuracy: 0.5626\n",
      "Epoch 15/50\n",
      "3696/3696 [==============================] - 770s 208ms/step - loss: 0.4480 - accuracy: 0.8774 - val_loss: 2.6650 - val_accuracy: 0.5476\n",
      "Epoch 16/50\n",
      "3696/3696 [==============================] - 771s 209ms/step - loss: 0.3876 - accuracy: 0.8917 - val_loss: 2.5294 - val_accuracy: 0.5526\n",
      "Epoch 17/50\n",
      "3696/3696 [==============================] - 771s 209ms/step - loss: 0.3253 - accuracy: 0.9060 - val_loss: 3.3947 - val_accuracy: 0.4895\n",
      "Epoch 18/50\n",
      "3696/3696 [==============================] - 771s 209ms/step - loss: 0.2826 - accuracy: 0.9166 - val_loss: 2.6146 - val_accuracy: 0.5764\n",
      "Epoch 19/50\n",
      "3696/3696 [==============================] - 771s 209ms/step - loss: 0.2226 - accuracy: 0.9343 - val_loss: 2.6666 - val_accuracy: 0.5712\n",
      "Epoch 20/50\n",
      "3696/3696 [==============================] - 771s 209ms/step - loss: 0.2089 - accuracy: 0.9375 - val_loss: 2.6721 - val_accuracy: 0.5850\n",
      "Epoch 21/50\n",
      "3696/3696 [==============================] - 771s 209ms/step - loss: 0.1712 - accuracy: 0.9484 - val_loss: 2.0948 - val_accuracy: 0.6571\n",
      "Epoch 22/50\n",
      "3696/3696 [==============================] - 772s 209ms/step - loss: 0.1530 - accuracy: 0.9523 - val_loss: 2.1013 - val_accuracy: 0.6360\n"
     ]
    }
   ],
   "source": [
    "optimizer = tf.keras.optimizers.SGD(learning_rate=0.05)\n",
    "\n",
    "net.compile(optimizer=optimizer,\n",
    "            loss='sparse_categorical_crossentropy',\n",
    "            metrics=['accuracy'])\n",
    "\n",
    "epochs = 50\n",
    "batch_size = 16\n",
    "\n",
    "history = net.fit(train_generator,\n",
    "        steps_per_epoch=train_generator.n // train_generator.batch_size,\n",
    "        validation_data=valid_generator,\n",
    "        validation_steps=valid_generator.n // valid_generator.batch_size,\n",
    "        epochs=epochs,\n",
    "        verbose=1,\n",
    "        callbacks=[early_stop])"
   ]
  },
  {
   "cell_type": "code",
   "execution_count": 42,
   "metadata": {},
   "outputs": [],
   "source": [
    "import matplotlib\n",
    "%matplotlib inline"
   ]
  },
  {
   "cell_type": "code",
   "execution_count": 43,
   "metadata": {},
   "outputs": [],
   "source": [
    "import matplotlib.pyplot as plt\n",
    "\n",
    "def plot_history(history):\n",
    "    hist = pd.DataFrame(history.history)\n",
    "    hist['epoch'] = history.epoch\n",
    "\n",
    "    plt.figure()\n",
    "    plt.xlabel('Epoch')\n",
    "    plt.ylabel('Loss')\n",
    "    plt.plot(hist['epoch'], hist['loss'],\n",
    "             label='Train Loss')\n",
    "    plt.plot(hist['epoch'], hist['val_loss'],\n",
    "             label = 'Val Loss')\n",
    "    plt.legend()\n",
    "\n",
    "    plt.figure()\n",
    "    plt.xlabel('Epoch')\n",
    "    plt.ylabel('Accuracy')\n",
    "    plt.plot(hist['epoch'], hist['accuracy'],\n",
    "             label='Train Accuracy')\n",
    "    plt.plot(hist['epoch'], hist['val_accuracy'],\n",
    "             label = 'Val Accuracy')\n",
    "    plt.legend()\n",
    "    plt.show()"
   ]
  },
  {
   "cell_type": "code",
   "execution_count": 44,
   "metadata": {},
   "outputs": [
    {
     "data": {
      "image/png": "[encoded data removed]",
      "text/plain": [
       "<Figure size 432x288 with 1 Axes>"
      ]
     },
     "metadata": {
      "needs_background": "light"
     },
     "output_type": "display_data"
    },
    {
     "data": {
      "image/png": "[encoded data removed]",
      "text/plain": [
       "<Figure size 432x288 with 1 Axes>"
      ]
     },
     "metadata": {
      "needs_background": "light"
     },
     "output_type": "display_data"
    }
   ],
   "source": [
    "import pandas as pd\n",
    "hist = pd.DataFrame(history.history)\n",
    "hist['epoch'] = history.epoch\n",
    "plot_history(history)"
   ]
  },
  {
   "cell_type": "code",
   "execution_count": 45,
   "metadata": {},
   "outputs": [
    {
     "name": "stdout",
     "output_type": "stream",
     "text": [
      "1155/1155 [==============================] - 92s 79ms/step - loss: 2.1492 - accuracy: 0.6322\n"
     ]
    },
    {
     "data": {
      "text/plain": [
       "0.6321969628334045"
      ]
     },
     "execution_count": 45,
     "metadata": {},
     "output_type": "execute_result"
    }
   ],
   "source": [
    "loss, acc = net.evaluate(test_generator, steps=test_generator.n // test_generator.batch_size)\n",
    "acc"
   ]
  },
  {
   "cell_type": "markdown",
   "metadata": {},
   "source": [
    "接下来尝试 https://keras.io/api/applications/ 中列出的其他模型，注意有些模型对于输入的尺寸要求大于(32,32)，在使用的过程中要根据相应的报错信息或者模型的说明进行修改。"
   ]
  },
  {
   "cell_type": "code",
   "execution_count": null,
   "metadata": {},
   "outputs": [],
   "source": []
  },
  {
   "cell_type": "code",
   "execution_count": 46,
   "metadata": {},
   "outputs": [
    {
     "name": "stdout",
     "output_type": "stream",
     "text": [
      "Epoch 1/50\n",
      "3696/3696 [==============================] - 775s 210ms/step - loss: 0.0368 - accuracy: 0.9906 - val_loss: 1.3000 - val_accuracy: 0.7909\n",
      "Epoch 2/50\n",
      "3696/3696 [==============================] - 771s 209ms/step - loss: 0.0140 - accuracy: 0.9970 - val_loss: 1.2854 - val_accuracy: 0.7955\n",
      "Epoch 3/50\n",
      "3696/3696 [==============================] - 771s 209ms/step - loss: 0.0105 - accuracy: 0.9979 - val_loss: 1.2871 - val_accuracy: 0.7970\n",
      "Epoch 4/50\n",
      "3696/3696 [==============================] - 772s 209ms/step - loss: 0.0093 - accuracy: 0.9983 - val_loss: 1.2885 - val_accuracy: 0.7994\n",
      "Epoch 5/50\n",
      "3696/3696 [==============================] - 773s 209ms/step - loss: 0.0079 - accuracy: 0.9986 - val_loss: 1.2938 - val_accuracy: 0.8007\n",
      "Epoch 6/50\n",
      "3696/3696 [==============================] - 772s 209ms/step - loss: 0.0066 - accuracy: 0.9988 - val_loss: 1.2934 - val_accuracy: 0.8009\n",
      "Epoch 7/50\n",
      "3696/3696 [==============================] - 772s 209ms/step - loss: 0.0056 - accuracy: 0.9989 - val_loss: 1.2898 - val_accuracy: 0.8024\n",
      "Epoch 8/50\n",
      "3696/3696 [==============================] - 773s 209ms/step - loss: 0.0050 - accuracy: 0.9990 - val_loss: 1.2983 - val_accuracy: 0.8022\n",
      "Epoch 9/50\n",
      "3696/3696 [==============================] - 774s 209ms/step - loss: 0.0055 - accuracy: 0.9990 - val_loss: 1.3012 - val_accuracy: 0.8024\n",
      "Epoch 10/50\n",
      "3696/3696 [==============================] - 773s 209ms/step - loss: 0.0049 - accuracy: 0.9990 - val_loss: 1.3044 - val_accuracy: 0.8034\n",
      "Epoch 11/50\n",
      "3696/3696 [==============================] - 774s 209ms/step - loss: 0.0051 - accuracy: 0.9988 - val_loss: 1.3000 - val_accuracy: 0.8038\n",
      "Epoch 12/50\n",
      "3696/3696 [==============================] - 773s 209ms/step - loss: 0.0049 - accuracy: 0.9989 - val_loss: 1.3002 - val_accuracy: 0.8043\n"
     ]
    }
   ],
   "source": [
    "optimizer = tf.keras.optimizers.SGD(learning_rate=0.01)\n",
    "\n",
    "net.compile(optimizer=optimizer,\n",
    "            loss='sparse_categorical_crossentropy',\n",
    "            metrics=['accuracy'])\n",
    "\n",
    "epochs = 50\n",
    "batch_size = 8\n",
    "\n",
    "history = net.fit(train_generator,\n",
    "        steps_per_epoch=train_generator.n // train_generator.batch_size,\n",
    "        validation_data=valid_generator,\n",
    "        validation_steps=valid_generator.n // valid_generator.batch_size,\n",
    "        epochs=epochs,\n",
    "        verbose=1,\n",
    "        callbacks=[early_stop])"
   ]
  },
  {
   "cell_type": "code",
   "execution_count": 47,
   "metadata": {},
   "outputs": [
    {
     "name": "stdout",
     "output_type": "stream",
     "text": [
      "1155/1155 [==============================] - 63s 55ms/step - loss: 1.3331 - accuracy: 0.8012\n"
     ]
    },
    {
     "data": {
      "text/plain": [
       "0.8011904954910278"
      ]
     },
     "execution_count": 47,
     "metadata": {},
     "output_type": "execute_result"
    }
   ],
   "source": [
    "loss, acc = net.evaluate(test_generator, steps=test_generator.n // test_generator.batch_size)\n",
    "acc"
   ]
  },
  {
   "cell_type": "code",
   "execution_count": null,
   "metadata": {},
   "outputs": [],
   "source": []
  }
 ],
 "metadata": {
  "kernelspec": {
   "display_name": "Python 3",
   "language": "python",
   "name": "python3"
  },
  "language_info": {
   "codemirror_mode": {
    "name": "ipython",
    "version": 3
   },
   "file_extension": ".py",
   "mimetype": "text/x-python",
   "name": "python",
   "nbconvert_exporter": "python",
   "pygments_lexer": "ipython3",
   "version": "3.7.3"
  }
 },
 "nbformat": 4,
 "nbformat_minor": 4
}
