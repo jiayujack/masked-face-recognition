{
 "cells": [
  {
   "cell_type": "markdown",
   "metadata": {},
   "source": [
    "# 1. 载入数据"
   ]
  },
  {
   "cell_type": "markdown",
   "metadata": {},
   "source": [
    "首先记得指明你的data_dir："
   ]
  },
  {
   "cell_type": "code",
   "execution_count": 1,
   "metadata": {},
   "outputs": [],
   "source": [
    "# data_dir = './data/self-built-masked-face-recognition-dataset/AFDB_face_dataset/'\n",
    "data_dir = 'F:/Projects/FaceMaskDetection/RMFD/self-built-masked-face-recognition-dataset/AFDB_face_dataset/'\n",
    "masked_data_dir = 'F:/Projects/FaceMaskDetection/RMFD/self-built-masked-face-recognition-dataset/AFDB_masked_face_dataset/'"
   ]
  },
  {
   "cell_type": "code",
   "execution_count": 2,
   "metadata": {},
   "outputs": [],
   "source": [
    "import os\n",
    "import cv2\n",
    "from tqdm import tqdm\n",
    "from tensorflow.keras.layers import *\n",
    "from tensorflow.keras.models import *\n",
    "from tensorflow.keras.callbacks import *\n",
    "from tensorflow.keras.optimizers import *\n",
    "from tensorflow.keras.applications import *\n",
    "from tensorflow.keras.preprocessing.image import *"
   ]
  },
  {
   "cell_type": "code",
   "execution_count": 3,
   "metadata": {},
   "outputs": [],
   "source": [
    "X_list = []\n",
    "y_list = []\n",
    "labels = os.listdir(data_dir)\n",
    "for label in labels:\n",
    "    fns = os.listdir(data_dir + '/' + label)\n",
    "    for fn in fns:\n",
    "        X_list.append(data_dir + '/' + label + '/' + fn)\n",
    "        y_list.append(label)"
   ]
  },
  {
   "cell_type": "code",
   "execution_count": 4,
   "metadata": {},
   "outputs": [
    {
     "data": {
      "text/plain": [
       "90468"
      ]
     },
     "execution_count": 4,
     "metadata": {},
     "output_type": "execute_result"
    }
   ],
   "source": [
    "len(X_list)"
   ]
  },
  {
   "cell_type": "code",
   "execution_count": 5,
   "metadata": {},
   "outputs": [
    {
     "data": {
      "text/plain": [
       "'F:/Projects/FaceMaskDetection/RMFD/self-built-masked-face-recognition-dataset/AFDB_face_dataset//aidai/0_0_aidai_0014.jpg'"
      ]
     },
     "execution_count": 5,
     "metadata": {},
     "output_type": "execute_result"
    }
   ],
   "source": [
    "X_list[0]"
   ]
  },
  {
   "cell_type": "code",
   "execution_count": 6,
   "metadata": {},
   "outputs": [
    {
     "data": {
      "text/plain": [
       "'aidai'"
      ]
     },
     "execution_count": 6,
     "metadata": {},
     "output_type": "execute_result"
    }
   ],
   "source": [
    "y_list[0]"
   ]
  },
  {
   "cell_type": "code",
   "execution_count": 7,
   "metadata": {},
   "outputs": [],
   "source": [
    "img_path = X_list[0]\n",
    "size = 32\n",
    "X = (cv2.resize(cv2.imread(img_path), (size, size))[:, :, ::-1].copy())"
   ]
  },
  {
   "cell_type": "code",
   "execution_count": 8,
   "metadata": {},
   "outputs": [
    {
     "data": {
      "text/plain": [
       "(32, 32, 3)"
      ]
     },
     "execution_count": 8,
     "metadata": {},
     "output_type": "execute_result"
    }
   ],
   "source": [
    "X.shape"
   ]
  },
  {
   "cell_type": "code",
   "execution_count": 9,
   "metadata": {},
   "outputs": [
    {
     "data": {
      "text/plain": [
       "<matplotlib.image.AxesImage at 0x1eec45383c8>"
      ]
     },
     "execution_count": 9,
     "metadata": {},
     "output_type": "execute_result"
    },
    {
     "data": {
      "image/png": "[encoded data removed]",
      "text/plain": [
       "<Figure size 432x288 with 1 Axes>"
      ]
     },
     "metadata": {
      "needs_background": "light"
     },
     "output_type": "display_data"
    }
   ],
   "source": [
    "import matplotlib.pyplot as plt\n",
    "%matplotlib inline\n",
    "plt.imshow(X)"
   ]
  },
  {
   "cell_type": "markdown",
   "metadata": {},
   "source": [
    "可以看到没有口罩的数据集中，一共是有460个不同的人。如果是之后还要用到有口罩的数据集，那里面是525人，最好取一下交集。"
   ]
  },
  {
   "cell_type": "code",
   "execution_count": 10,
   "metadata": {},
   "outputs": [
    {
     "data": {
      "text/plain": [
       "460"
      ]
     },
     "execution_count": 10,
     "metadata": {},
     "output_type": "execute_result"
    }
   ],
   "source": [
    "len(set(y_list))"
   ]
  },
  {
   "cell_type": "markdown",
   "metadata": {},
   "source": [
    "**接下来在这里叠加有口罩的情况，注意我们只使用之前已经存在的人名，因为 没有口罩的总人数是460，而有口罩的总人数是525，我们取了交集，也就是只使用460个人的图片**"
   ]
  },
  {
   "cell_type": "code",
   "execution_count": 11,
   "metadata": {},
   "outputs": [
    {
     "data": {
      "text/plain": [
       "90468"
      ]
     },
     "execution_count": 11,
     "metadata": {},
     "output_type": "execute_result"
    }
   ],
   "source": [
    "len(X_list)"
   ]
  },
  {
   "cell_type": "code",
   "execution_count": 12,
   "metadata": {},
   "outputs": [
    {
     "name": "stdout",
     "output_type": "stream",
     "text": [
      "zhangzhenyue not exists\n",
      "wangzhiwen not exists\n",
      "hudie not exists\n",
      "yufeihong not exists\n",
      "linyilian not exists\n",
      "linyilun not exists\n",
      "liupinyan not exists\n",
      "hewenhui not exists\n",
      "fuxinbo not exists\n",
      "zhongjiaxin not exists\n",
      "dongchengpeng not exists\n",
      "tanlina not exists\n",
      "hedujuan not exists\n",
      "yufeng not exists\n",
      "gaohu not exists\n",
      "liwen not exists\n",
      "hejunxiang not exists\n",
      "liaofan not exists\n"
     ]
    }
   ],
   "source": [
    "# 只使用之前已经有的460个人的图片\n",
    "for label in set(y_list):\n",
    "    try:\n",
    "        fns = os.listdir(masked_data_dir + '/' + label)\n",
    "        for fn in fns:\n",
    "            X_list.append(masked_data_dir + '/' + label + '/' + fn)\n",
    "            y_list.append(label)\n",
    "    except:\n",
    "        print(label, 'not exists')"
   ]
  },
  {
   "cell_type": "code",
   "execution_count": 13,
   "metadata": {},
   "outputs": [
    {
     "data": {
      "text/plain": [
       "92413"
      ]
     },
     "execution_count": 13,
     "metadata": {},
     "output_type": "execute_result"
    }
   ],
   "source": [
    "len(X_list)"
   ]
  },
  {
   "cell_type": "markdown",
   "metadata": {},
   "source": [
    "**可以看到多了2000张图片。**下面的流程是类似的。"
   ]
  },
  {
   "cell_type": "code",
   "execution_count": 14,
   "metadata": {},
   "outputs": [],
   "source": [
    "import pandas as pd\n",
    "df = pd.DataFrame({'X': X_list, 'y_name': y_list}, index=range(len(X_list)))"
   ]
  },
  {
   "cell_type": "code",
   "execution_count": 15,
   "metadata": {},
   "outputs": [
    {
     "data": {
      "text/html": [
       "<div>\n",
       "<style scoped>\n",
       "    .dataframe tbody tr th:only-of-type {\n",
       "        vertical-align: middle;\n",
       "    }\n",
       "\n",
       "    .dataframe tbody tr th {\n",
       "        vertical-align: top;\n",
       "    }\n",
       "\n",
       "    .dataframe thead th {\n",
       "        text-align: right;\n",
       "    }\n",
       "</style>\n",
       "<table border=\"1\" class=\"dataframe\">\n",
       "  <thead>\n",
       "    <tr style=\"text-align: right;\">\n",
       "      <th></th>\n",
       "      <th>X</th>\n",
       "      <th>y_name</th>\n",
       "    </tr>\n",
       "  </thead>\n",
       "  <tbody>\n",
       "    <tr>\n",
       "      <th>0</th>\n",
       "      <td>F:/Projects/FaceMaskDetection/RMFD/self-built-...</td>\n",
       "      <td>aidai</td>\n",
       "    </tr>\n",
       "    <tr>\n",
       "      <th>1</th>\n",
       "      <td>F:/Projects/FaceMaskDetection/RMFD/self-built-...</td>\n",
       "      <td>aidai</td>\n",
       "    </tr>\n",
       "    <tr>\n",
       "      <th>2</th>\n",
       "      <td>F:/Projects/FaceMaskDetection/RMFD/self-built-...</td>\n",
       "      <td>aidai</td>\n",
       "    </tr>\n",
       "    <tr>\n",
       "      <th>3</th>\n",
       "      <td>F:/Projects/FaceMaskDetection/RMFD/self-built-...</td>\n",
       "      <td>aidai</td>\n",
       "    </tr>\n",
       "    <tr>\n",
       "      <th>4</th>\n",
       "      <td>F:/Projects/FaceMaskDetection/RMFD/self-built-...</td>\n",
       "      <td>aidai</td>\n",
       "    </tr>\n",
       "  </tbody>\n",
       "</table>\n",
       "</div>"
      ],
      "text/plain": [
       "                                                   X y_name\n",
       "0  F:/Projects/FaceMaskDetection/RMFD/self-built-...  aidai\n",
       "1  F:/Projects/FaceMaskDetection/RMFD/self-built-...  aidai\n",
       "2  F:/Projects/FaceMaskDetection/RMFD/self-built-...  aidai\n",
       "3  F:/Projects/FaceMaskDetection/RMFD/self-built-...  aidai\n",
       "4  F:/Projects/FaceMaskDetection/RMFD/self-built-...  aidai"
      ]
     },
     "execution_count": 15,
     "metadata": {},
     "output_type": "execute_result"
    }
   ],
   "source": [
    "df.head()"
   ]
  },
  {
   "cell_type": "markdown",
   "metadata": {},
   "source": [
    "把y这个类别转换为数字编码的标签："
   ]
  },
  {
   "cell_type": "code",
   "execution_count": 16,
   "metadata": {},
   "outputs": [],
   "source": [
    "from sklearn.preprocessing import LabelEncoder\n",
    "encoder = LabelEncoder()\n",
    "df['y'] = encoder.fit_transform(df['y_name'])"
   ]
  },
  {
   "cell_type": "code",
   "execution_count": 17,
   "metadata": {},
   "outputs": [
    {
     "data": {
      "text/html": [
       "<div>\n",
       "<style scoped>\n",
       "    .dataframe tbody tr th:only-of-type {\n",
       "        vertical-align: middle;\n",
       "    }\n",
       "\n",
       "    .dataframe tbody tr th {\n",
       "        vertical-align: top;\n",
       "    }\n",
       "\n",
       "    .dataframe thead th {\n",
       "        text-align: right;\n",
       "    }\n",
       "</style>\n",
       "<table border=\"1\" class=\"dataframe\">\n",
       "  <thead>\n",
       "    <tr style=\"text-align: right;\">\n",
       "      <th></th>\n",
       "      <th>X</th>\n",
       "      <th>y_name</th>\n",
       "      <th>y</th>\n",
       "    </tr>\n",
       "  </thead>\n",
       "  <tbody>\n",
       "    <tr>\n",
       "      <th>0</th>\n",
       "      <td>F:/Projects/FaceMaskDetection/RMFD/self-built-...</td>\n",
       "      <td>aidai</td>\n",
       "      <td>0</td>\n",
       "    </tr>\n",
       "    <tr>\n",
       "      <th>1</th>\n",
       "      <td>F:/Projects/FaceMaskDetection/RMFD/self-built-...</td>\n",
       "      <td>aidai</td>\n",
       "      <td>0</td>\n",
       "    </tr>\n",
       "    <tr>\n",
       "      <th>2</th>\n",
       "      <td>F:/Projects/FaceMaskDetection/RMFD/self-built-...</td>\n",
       "      <td>aidai</td>\n",
       "      <td>0</td>\n",
       "    </tr>\n",
       "    <tr>\n",
       "      <th>3</th>\n",
       "      <td>F:/Projects/FaceMaskDetection/RMFD/self-built-...</td>\n",
       "      <td>aidai</td>\n",
       "      <td>0</td>\n",
       "    </tr>\n",
       "    <tr>\n",
       "      <th>4</th>\n",
       "      <td>F:/Projects/FaceMaskDetection/RMFD/self-built-...</td>\n",
       "      <td>aidai</td>\n",
       "      <td>0</td>\n",
       "    </tr>\n",
       "  </tbody>\n",
       "</table>\n",
       "</div>"
      ],
      "text/plain": [
       "                                                   X y_name  y\n",
       "0  F:/Projects/FaceMaskDetection/RMFD/self-built-...  aidai  0\n",
       "1  F:/Projects/FaceMaskDetection/RMFD/self-built-...  aidai  0\n",
       "2  F:/Projects/FaceMaskDetection/RMFD/self-built-...  aidai  0\n",
       "3  F:/Projects/FaceMaskDetection/RMFD/self-built-...  aidai  0\n",
       "4  F:/Projects/FaceMaskDetection/RMFD/self-built-...  aidai  0"
      ]
     },
     "execution_count": 17,
     "metadata": {},
     "output_type": "execute_result"
    }
   ],
   "source": [
    "df.head()"
   ]
  },
  {
   "cell_type": "code",
   "execution_count": 18,
   "metadata": {},
   "outputs": [
    {
     "data": {
      "text/plain": [
       "459"
      ]
     },
     "execution_count": 18,
     "metadata": {},
     "output_type": "execute_result"
    }
   ],
   "source": [
    "max(df['y'])"
   ]
  },
  {
   "cell_type": "code",
   "execution_count": 19,
   "metadata": {},
   "outputs": [],
   "source": [
    "num_classes = max(df['y']) + 1"
   ]
  },
  {
   "cell_type": "markdown",
   "metadata": {},
   "source": [
    "接下来进行数据集的划分："
   ]
  },
  {
   "cell_type": "code",
   "execution_count": 20,
   "metadata": {},
   "outputs": [],
   "source": [
    "from sklearn.model_selection import StratifiedShuffleSplit\n",
    "\n",
    "split = StratifiedShuffleSplit(n_splits=1, test_size=0.2, random_state=42)\n",
    "\n",
    "# 按照不同人进行分层采样\n",
    "# 尽量避免有人只出现在训练集或只出现在测试集的情况\n",
    "for train_index, test_index in split.split(df, df['y']):\n",
    "    strat_train_set = df.loc[train_index]\n",
    "    strat_test_set = df.loc[test_index]"
   ]
  },
  {
   "cell_type": "code",
   "execution_count": 21,
   "metadata": {},
   "outputs": [
    {
     "data": {
      "text/plain": [
       "(73930, 3)"
      ]
     },
     "execution_count": 21,
     "metadata": {},
     "output_type": "execute_result"
    }
   ],
   "source": [
    "strat_train_set.shape"
   ]
  },
  {
   "cell_type": "code",
   "execution_count": 22,
   "metadata": {},
   "outputs": [
    {
     "data": {
      "text/plain": [
       "(18483, 3)"
      ]
     },
     "execution_count": 22,
     "metadata": {},
     "output_type": "execute_result"
    }
   ],
   "source": [
    "strat_test_set.shape"
   ]
  },
  {
   "cell_type": "code",
   "execution_count": 23,
   "metadata": {},
   "outputs": [
    {
     "data": {
      "text/plain": [
       "(92413, 3)"
      ]
     },
     "execution_count": 23,
     "metadata": {},
     "output_type": "execute_result"
    }
   ],
   "source": [
    "df.shape"
   ]
  },
  {
   "cell_type": "code",
   "execution_count": 24,
   "metadata": {},
   "outputs": [
    {
     "data": {
      "text/plain": [
       "<matplotlib.axes._subplots.AxesSubplot at 0x1eec653a668>"
      ]
     },
     "execution_count": 24,
     "metadata": {},
     "output_type": "execute_result"
    },
    {
     "data": {
      "image/png": "[encoded data removed]",
      "text/plain": [
       "<Figure size 1440x1080 with 1 Axes>"
      ]
     },
     "metadata": {
      "needs_background": "light"
     },
     "output_type": "display_data"
    }
   ],
   "source": [
    "strat_train_set['y'].hist(bins=50, figsize=(20,15))"
   ]
  },
  {
   "cell_type": "code",
   "execution_count": 25,
   "metadata": {},
   "outputs": [
    {
     "data": {
      "text/plain": [
       "<matplotlib.axes._subplots.AxesSubplot at 0x1eec65b7748>"
      ]
     },
     "execution_count": 25,
     "metadata": {},
     "output_type": "execute_result"
    },
    {
     "data": {
      "image/png": "[encoded data removed]",
      "text/plain": [
       "<Figure size 1440x1080 with 1 Axes>"
      ]
     },
     "metadata": {
      "needs_background": "light"
     },
     "output_type": "display_data"
    }
   ],
   "source": [
    "strat_test_set['y'].hist(bins=50, figsize=(20,15))"
   ]
  },
  {
   "cell_type": "markdown",
   "metadata": {},
   "source": [
    "接下来利用ImageDataGenerator来准备训练用的generator"
   ]
  },
  {
   "cell_type": "code",
   "execution_count": 26,
   "metadata": {},
   "outputs": [],
   "source": [
    "from keras_preprocessing.image import ImageDataGenerator"
   ]
  },
  {
   "cell_type": "code",
   "execution_count": 27,
   "metadata": {},
   "outputs": [
    {
     "name": "stdout",
     "output_type": "stream",
     "text": [
      "Found 59144 validated image filenames belonging to 460 classes.\n",
      "Found 14786 validated image filenames belonging to 460 classes.\n"
     ]
    }
   ],
   "source": [
    "# 图像归一化\n",
    "# 并且划分20%的训练集数据作为验证集数据\n",
    "datagen=ImageDataGenerator(rescale=1./255, validation_split=0.2)\n",
    "\n",
    "# 设置小批量的大小\n",
    "batch_size = 16\n",
    "\n",
    "# 我们的dataframe中保存的路径足够\n",
    "# 否则还需要指明directory来表示文件存放的路径\n",
    "train_generator=datagen.flow_from_dataframe(dataframe=strat_train_set, \n",
    "                                            x_col='X',\n",
    "                                            y_col='y_name',\n",
    "                                            subset=\"training\",\n",
    "                                            seed=44,  # 随机数种子\n",
    "                                            class_mode=\"sparse\", # 直接使用文本标签\n",
    "                                            target_size=(224, 224),  # 这里把图片变小\n",
    "                                            batch_size=batch_size) # 内存不足可以调小batch_size\n",
    "\n",
    "# 划分\n",
    "valid_generator=datagen.flow_from_dataframe(dataframe=strat_train_set, \n",
    "                                            x_col='X',\n",
    "                                            y_col='y_name',\n",
    "                                            subset=\"validation\",\n",
    "                                            seed=44,  # 随机数种子\n",
    "                                            class_mode=\"sparse\", # 直接使用文本标签\n",
    "                                            target_size=(224, 224),  # 这里把图片变小\n",
    "                                            batch_size=batch_size) # 内存不足可以调小batch_size"
   ]
  },
  {
   "cell_type": "markdown",
   "metadata": {},
   "source": [
    "分布查看训练集和验证集的数据量："
   ]
  },
  {
   "cell_type": "code",
   "execution_count": 28,
   "metadata": {},
   "outputs": [
    {
     "data": {
      "text/plain": [
       "59144"
      ]
     },
     "execution_count": 28,
     "metadata": {},
     "output_type": "execute_result"
    }
   ],
   "source": [
    "train_generator.n"
   ]
  },
  {
   "cell_type": "code",
   "execution_count": 29,
   "metadata": {},
   "outputs": [
    {
     "data": {
      "text/plain": [
       "16"
      ]
     },
     "execution_count": 29,
     "metadata": {},
     "output_type": "execute_result"
    }
   ],
   "source": [
    "train_generator.batch_size"
   ]
  },
  {
   "cell_type": "code",
   "execution_count": 30,
   "metadata": {},
   "outputs": [
    {
     "data": {
      "text/plain": [
       "14786"
      ]
     },
     "execution_count": 30,
     "metadata": {},
     "output_type": "execute_result"
    }
   ],
   "source": [
    "valid_generator.n"
   ]
  },
  {
   "cell_type": "code",
   "execution_count": 31,
   "metadata": {},
   "outputs": [
    {
     "data": {
      "text/plain": [
       "16"
      ]
     },
     "execution_count": 31,
     "metadata": {},
     "output_type": "execute_result"
    }
   ],
   "source": [
    "valid_generator.batch_size"
   ]
  },
  {
   "cell_type": "code",
   "execution_count": 32,
   "metadata": {},
   "outputs": [
    {
     "name": "stdout",
     "output_type": "stream",
     "text": [
      "(16, 224, 224, 3)\n",
      "(16,)\n"
     ]
    }
   ],
   "source": [
    "for X_batch, y_batch in train_generator:\n",
    "    print(X_batch.shape)\n",
    "    print(y_batch.shape)\n",
    "    break"
   ]
  },
  {
   "cell_type": "code",
   "execution_count": 33,
   "metadata": {},
   "outputs": [
    {
     "data": {
      "text/plain": [
       "<matplotlib.image.AxesImage at 0x1eec7d542e8>"
      ]
     },
     "execution_count": 33,
     "metadata": {},
     "output_type": "execute_result"
    },
    {
     "data": {
      "image/png": "[encoded data removed]",
      "text/plain": [
       "<Figure size 432x288 with 1 Axes>"
      ]
     },
     "metadata": {
      "needs_background": "light"
     },
     "output_type": "display_data"
    }
   ],
   "source": [
    "plt.imshow(X_batch[0])"
   ]
  },
  {
   "cell_type": "code",
   "execution_count": 34,
   "metadata": {},
   "outputs": [
    {
     "data": {
      "text/plain": [
       "114.0"
      ]
     },
     "execution_count": 34,
     "metadata": {},
     "output_type": "execute_result"
    }
   ],
   "source": [
    "y_batch[0]"
   ]
  },
  {
   "cell_type": "markdown",
   "metadata": {},
   "source": [
    "可以看到已经train_generator已经可以自动读取图像了"
   ]
  },
  {
   "cell_type": "markdown",
   "metadata": {},
   "source": [
    "类似的，我们构建test_generator"
   ]
  },
  {
   "cell_type": "code",
   "execution_count": 35,
   "metadata": {},
   "outputs": [
    {
     "name": "stdout",
     "output_type": "stream",
     "text": [
      "Found 18483 validated image filenames belonging to 460 classes.\n"
     ]
    }
   ],
   "source": [
    "# 图像归一化\n",
    "datagen=ImageDataGenerator(rescale=1./255)\n",
    "batch_size = 16\n",
    "\n",
    "# 我们的dataframe中保存的路径足够\n",
    "# 否则还需要指明directory来表示文件存放的路径\n",
    "test_generator=datagen.flow_from_dataframe(dataframe=strat_test_set, \n",
    "                                            x_col='X',\n",
    "                                            y_col='y_name',\n",
    "                                            class_mode=\"sparse\", # 直接使用文本标签\n",
    "                                            target_size=(224, 224),  # 这里把图片变小\n",
    "                                            batch_size=batch_size) # 内存不足可以调小batch_size"
   ]
  },
  {
   "cell_type": "code",
   "execution_count": 36,
   "metadata": {},
   "outputs": [
    {
     "data": {
      "text/plain": [
       "18483"
      ]
     },
     "execution_count": 36,
     "metadata": {},
     "output_type": "execute_result"
    }
   ],
   "source": [
    "test_generator.n"
   ]
  },
  {
   "cell_type": "code",
   "execution_count": 37,
   "metadata": {},
   "outputs": [
    {
     "data": {
      "text/plain": [
       "16"
      ]
     },
     "execution_count": 37,
     "metadata": {},
     "output_type": "execute_result"
    }
   ],
   "source": [
    "test_generator.batch_size"
   ]
  },
  {
   "cell_type": "markdown",
   "metadata": {},
   "source": [
    "# 2. 模型尝试"
   ]
  },
  {
   "cell_type": "code",
   "execution_count": 38,
   "metadata": {},
   "outputs": [],
   "source": [
    "from tensorflow.keras.applications import ResNet152\n",
    "from tensorflow.keras.models import Model\n",
    "from tensorflow.keras.layers import Dense, GlobalAveragePooling2D\n",
    "# 不同电脑上keras配置文件最好都改成一致的，否则这里确认下\n",
    "import tensorflow as tf\n",
    "tf.keras.backend.set_image_data_format('channels_last')"
   ]
  },
  {
   "cell_type": "markdown",
   "metadata": {},
   "source": [
    "注意这里的输入是**(224, 224, 3)**"
   ]
  },
  {
   "cell_type": "code",
   "execution_count": 39,
   "metadata": {},
   "outputs": [],
   "source": [
    "# 先设置一个base model\n",
    "# 当我们使用预训练的权重时，必须要求输入3个通道，即RGB通道\n",
    "base_model = ResNet152(input_shape=(224, 224, 3),  # MobileNet要求输入的尺寸不小于32，不同模型有不同要求\n",
    "                       include_top=False,  # 不使用最后一层，因为我们要按照具体的数据来设置最后一层的神经元个数\n",
    "                       weights=None)  # 这里我们不使用预训练过的权重，如果使用，图片尺寸最好变更大\n",
    "\n",
    "# 添加a global spatial average pooling layer\n",
    "x = base_model.output\n",
    "x = GlobalAveragePooling2D()(x)\n",
    "# 添加a fully-connected layer\n",
    "x = Dense(1024, activation='relu')(x)\n",
    "\n",
    "predictions = Dense(num_classes, activation='softmax')(x)\n",
    "\n",
    "# 我们最终会训练的模型\n",
    "net = Model(inputs=base_model.input, outputs=predictions)"
   ]
  },
  {
   "cell_type": "markdown",
   "metadata": {},
   "source": [
    "进行模型的训练："
   ]
  },
  {
   "cell_type": "markdown",
   "metadata": {},
   "source": [
    "再加上early stopping进行过拟合的问题的处理："
   ]
  },
  {
   "cell_type": "code",
   "execution_count": 40,
   "metadata": {},
   "outputs": [],
   "source": [
    "# 这里的patience表示当10轮之后val_loss还是没有提高，就提前终止训练\n",
    "from tensorflow import keras\n",
    "early_stop = keras.callbacks.EarlyStopping(monitor='val_loss', patience=10)"
   ]
  },
  {
   "cell_type": "code",
   "execution_count": 41,
   "metadata": {},
   "outputs": [
    {
     "name": "stdout",
     "output_type": "stream",
     "text": [
      "Epoch 1/50\n",
      "3696/3696 [==============================] - 1148s 311ms/step - loss: 5.8517 - accuracy: 0.0068 - val_loss: 5.4112 - val_accuracy: 0.0158\n",
      "Epoch 2/50\n",
      "3696/3696 [==============================] - 1155s 312ms/step - loss: 5.2372 - accuracy: 0.0228 - val_loss: 5.4656 - val_accuracy: 0.0251\n",
      "Epoch 3/50\n",
      "3696/3696 [==============================] - 1175s 318ms/step - loss: 4.7722 - accuracy: 0.0545 - val_loss: 4.6981 - val_accuracy: 0.0715\n",
      "Epoch 4/50\n",
      "3696/3696 [==============================] - 1180s 319ms/step - loss: 4.3466 - accuracy: 0.0971 - val_loss: 4.3250 - val_accuracy: 0.1104\n",
      "Epoch 5/50\n",
      "3696/3696 [==============================] - 1162s 314ms/step - loss: 3.9608 - accuracy: 0.1475 - val_loss: 4.1062 - val_accuracy: 0.1604\n",
      "Epoch 6/50\n",
      "3696/3696 [==============================] - 1189s 322ms/step - loss: 3.5630 - accuracy: 0.2093 - val_loss: 5.8482 - val_accuracy: 0.1700\n",
      "Epoch 7/50\n",
      "3696/3696 [==============================] - 1198s 324ms/step - loss: 3.1613 - accuracy: 0.2780 - val_loss: 4.2093 - val_accuracy: 0.1879\n",
      "Epoch 8/50\n",
      "3696/3696 [==============================] - 1164s 315ms/step - loss: 2.7480 - accuracy: 0.3556 - val_loss: 4.3028 - val_accuracy: 0.2913\n",
      "Epoch 9/50\n",
      "3696/3696 [==============================] - 1150s 311ms/step - loss: 2.3631 - accuracy: 0.4313 - val_loss: 5.3296 - val_accuracy: 0.3175\n",
      "Epoch 10/50\n",
      "3696/3696 [==============================] - 1152s 312ms/step - loss: 2.0002 - accuracy: 0.5103 - val_loss: 3.1365 - val_accuracy: 0.3615\n",
      "Epoch 11/50\n",
      "3696/3696 [==============================] - 1150s 311ms/step - loss: 1.6693 - accuracy: 0.5783 - val_loss: 3.1910 - val_accuracy: 0.3433\n",
      "Epoch 12/50\n",
      "3696/3696 [==============================] - 1151s 311ms/step - loss: 1.3809 - accuracy: 0.6394 - val_loss: 3.3307 - val_accuracy: 0.3330\n",
      "Epoch 13/50\n",
      "3696/3696 [==============================] - 1151s 311ms/step - loss: 1.1219 - accuracy: 0.6994 - val_loss: 4.7302 - val_accuracy: 0.2963\n",
      "Epoch 14/50\n",
      "3696/3696 [==============================] - 1150s 311ms/step - loss: 0.9068 - accuracy: 0.7496 - val_loss: 4.2249 - val_accuracy: 0.3765\n",
      "Epoch 15/50\n",
      "3696/3696 [==============================] - 1151s 311ms/step - loss: 0.7381 - accuracy: 0.7910 - val_loss: 3.5730 - val_accuracy: 0.3701\n",
      "Epoch 16/50\n",
      "3696/3696 [==============================] - 1152s 312ms/step - loss: 0.5946 - accuracy: 0.8262 - val_loss: 3.4843 - val_accuracy: 0.4409\n",
      "Epoch 17/50\n",
      "3696/3696 [==============================] - 1152s 312ms/step - loss: 0.4800 - accuracy: 0.8581 - val_loss: 3.3031 - val_accuracy: 0.4542\n",
      "Epoch 18/50\n",
      "3696/3696 [==============================] - 1152s 312ms/step - loss: 0.3904 - accuracy: 0.8825 - val_loss: 3.6722 - val_accuracy: 0.4580\n",
      "Epoch 19/50\n",
      "3696/3696 [==============================] - 1151s 311ms/step - loss: 0.3200 - accuracy: 0.9015 - val_loss: 3.7402 - val_accuracy: 0.4320\n",
      "Epoch 20/50\n",
      "3696/3696 [==============================] - 1151s 311ms/step - loss: 0.2653 - accuracy: 0.9183 - val_loss: 6.2456 - val_accuracy: 0.4780\n"
     ]
    }
   ],
   "source": [
    "optimizer = tf.keras.optimizers.SGD(learning_rate=0.05)\n",
    "\n",
    "net.compile(optimizer=optimizer,\n",
    "            loss='sparse_categorical_crossentropy',\n",
    "            metrics=['accuracy'])\n",
    "\n",
    "epochs = 50\n",
    "batch_size = 16\n",
    "\n",
    "history = net.fit(train_generator,\n",
    "        steps_per_epoch=train_generator.n // train_generator.batch_size,\n",
    "        validation_data=valid_generator,\n",
    "        validation_steps=valid_generator.n // valid_generator.batch_size,\n",
    "        epochs=epochs,\n",
    "        verbose=1,\n",
    "        callbacks=[early_stop])"
   ]
  },
  {
   "cell_type": "code",
   "execution_count": 42,
   "metadata": {},
   "outputs": [],
   "source": [
    "import matplotlib\n",
    "%matplotlib inline"
   ]
  },
  {
   "cell_type": "code",
   "execution_count": 43,
   "metadata": {},
   "outputs": [],
   "source": [
    "import matplotlib.pyplot as plt\n",
    "\n",
    "def plot_history(history):\n",
    "    hist = pd.DataFrame(history.history)\n",
    "    hist['epoch'] = history.epoch\n",
    "\n",
    "    plt.figure()\n",
    "    plt.xlabel('Epoch')\n",
    "    plt.ylabel('Loss')\n",
    "    plt.plot(hist['epoch'], hist['loss'],\n",
    "             label='Train Loss')\n",
    "    plt.plot(hist['epoch'], hist['val_loss'],\n",
    "             label = 'Val Loss')\n",
    "    plt.legend()\n",
    "\n",
    "    plt.figure()\n",
    "    plt.xlabel('Epoch')\n",
    "    plt.ylabel('Accuracy')\n",
    "    plt.plot(hist['epoch'], hist['accuracy'],\n",
    "             label='Train Accuracy')\n",
    "    plt.plot(hist['epoch'], hist['val_accuracy'],\n",
    "             label = 'Val Accuracy')\n",
    "    plt.legend()\n",
    "    plt.show()"
   ]
  },
  {
   "cell_type": "code",
   "execution_count": 44,
   "metadata": {},
   "outputs": [
    {
     "data": {
      "image/png": "[encoded data removed]",
      "text/plain": [
       "<Figure size 432x288 with 1 Axes>"
      ]
     },
     "metadata": {
      "needs_background": "light"
     },
     "output_type": "display_data"
    },
    {
     "data": {
      "image/png": "[encoded data removed]",
      "text/plain": [
       "<Figure size 432x288 with 1 Axes>"
      ]
     },
     "metadata": {
      "needs_background": "light"
     },
     "output_type": "display_data"
    }
   ],
   "source": [
    "import pandas as pd\n",
    "hist = pd.DataFrame(history.history)\n",
    "hist['epoch'] = history.epoch\n",
    "plot_history(history)"
   ]
  },
  {
   "cell_type": "code",
   "execution_count": 45,
   "metadata": {},
   "outputs": [
    {
     "name": "stdout",
     "output_type": "stream",
     "text": [
      "1155/1155 [==============================] - 106s 92ms/step - loss: 5.7903 - accuracy: 0.4751\n"
     ]
    },
    {
     "data": {
      "text/plain": [
       "0.4750541150569916"
      ]
     },
     "execution_count": 45,
     "metadata": {},
     "output_type": "execute_result"
    }
   ],
   "source": [
    "loss, acc = net.evaluate(test_generator, steps=test_generator.n // test_generator.batch_size)\n",
    "acc"
   ]
  },
  {
   "cell_type": "markdown",
   "metadata": {},
   "source": [
    "接下来尝试 https://keras.io/api/applications/ 中列出的其他模型，注意有些模型对于输入的尺寸要求大于(32,32)，在使用的过程中要根据相应的报错信息或者模型的说明进行修改。"
   ]
  },
  {
   "cell_type": "code",
   "execution_count": null,
   "metadata": {},
   "outputs": [],
   "source": []
  },
  {
   "cell_type": "code",
   "execution_count": 46,
   "metadata": {},
   "outputs": [
    {
     "name": "stdout",
     "output_type": "stream",
     "text": [
      "Epoch 1/50\n",
      "3696/3696 [==============================] - 1154s 312ms/step - loss: 0.0489 - accuracy: 0.9866 - val_loss: 6.1541 - val_accuracy: 0.5760\n",
      "Epoch 2/50\n",
      "3696/3696 [==============================] - 1153s 312ms/step - loss: 0.0137 - accuracy: 0.9970 - val_loss: 6.0256 - val_accuracy: 0.5835\n",
      "Epoch 3/50\n",
      "3696/3696 [==============================] - 1153s 312ms/step - loss: 0.0098 - accuracy: 0.9981 - val_loss: 6.0688 - val_accuracy: 0.5908\n",
      "Epoch 4/50\n",
      "3696/3696 [==============================] - 1152s 312ms/step - loss: 0.0075 - accuracy: 0.9985 - val_loss: 6.7945 - val_accuracy: 0.5885\n",
      "Epoch 5/50\n",
      "3696/3696 [==============================] - 1153s 312ms/step - loss: 0.0074 - accuracy: 0.9985 - val_loss: 6.3452 - val_accuracy: 0.5917\n",
      "Epoch 6/50\n",
      "3696/3696 [==============================] - 1153s 312ms/step - loss: 0.0067 - accuracy: 0.9987 - val_loss: 5.5079 - val_accuracy: 0.5956\n",
      "Epoch 7/50\n",
      "3696/3696 [==============================] - 1152s 312ms/step - loss: 0.0051 - accuracy: 0.9989 - val_loss: 6.2093 - val_accuracy: 0.5942\n",
      "Epoch 8/50\n",
      "3696/3696 [==============================] - 1153s 312ms/step - loss: 0.0048 - accuracy: 0.9990 - val_loss: 5.7194 - val_accuracy: 0.5969\n",
      "Epoch 9/50\n",
      "3696/3696 [==============================] - 1152s 312ms/step - loss: 0.0052 - accuracy: 0.9988 - val_loss: 5.9943 - val_accuracy: 0.5939\n",
      "Epoch 10/50\n",
      "3696/3696 [==============================] - 1153s 312ms/step - loss: 0.0039 - accuracy: 0.9991 - val_loss: 6.7930 - val_accuracy: 0.5952\n",
      "Epoch 11/50\n",
      "3696/3696 [==============================] - 1154s 312ms/step - loss: 0.0045 - accuracy: 0.9989 - val_loss: 7.0373 - val_accuracy: 0.5944\n",
      "Epoch 12/50\n",
      "3696/3696 [==============================] - 1152s 312ms/step - loss: 0.0042 - accuracy: 0.9990 - val_loss: 5.7877 - val_accuracy: 0.5990\n",
      "Epoch 13/50\n",
      "3696/3696 [==============================] - 1153s 312ms/step - loss: 0.0035 - accuracy: 0.9991 - val_loss: 6.3450 - val_accuracy: 0.5966\n",
      "Epoch 14/50\n",
      "3696/3696 [==============================] - 1153s 312ms/step - loss: 0.0035 - accuracy: 0.9991 - val_loss: 6.3357 - val_accuracy: 0.5968\n",
      "Epoch 15/50\n",
      "3696/3696 [==============================] - 1153s 312ms/step - loss: 0.0034 - accuracy: 0.9991 - val_loss: 7.6247 - val_accuracy: 0.5952\n",
      "Epoch 16/50\n",
      "3696/3696 [==============================] - 1152s 312ms/step - loss: 0.0033 - accuracy: 0.9991 - val_loss: 6.1063 - val_accuracy: 0.6011\n"
     ]
    }
   ],
   "source": [
    "optimizer = tf.keras.optimizers.SGD(learning_rate=0.01)\n",
    "\n",
    "net.compile(optimizer=optimizer,\n",
    "            loss='sparse_categorical_crossentropy',\n",
    "            metrics=['accuracy'])\n",
    "\n",
    "epochs = 50\n",
    "batch_size = 8\n",
    "\n",
    "history = net.fit(train_generator,\n",
    "        steps_per_epoch=train_generator.n // train_generator.batch_size,\n",
    "        validation_data=valid_generator,\n",
    "        validation_steps=valid_generator.n // valid_generator.batch_size,\n",
    "        epochs=epochs,\n",
    "        verbose=1,\n",
    "        callbacks=[early_stop])"
   ]
  },
  {
   "cell_type": "code",
   "execution_count": 47,
   "metadata": {},
   "outputs": [
    {
     "name": "stdout",
     "output_type": "stream",
     "text": [
      "1155/1155 [==============================] - 106s 92ms/step - loss: 5.6876 - accuracy: 0.5942\n"
     ]
    },
    {
     "data": {
      "text/plain": [
       "0.5942099690437317"
      ]
     },
     "execution_count": 47,
     "metadata": {},
     "output_type": "execute_result"
    }
   ],
   "source": [
    "loss, acc = net.evaluate(test_generator, steps=test_generator.n // test_generator.batch_size)\n",
    "acc"
   ]
  },
  {
   "cell_type": "code",
   "execution_count": null,
   "metadata": {},
   "outputs": [],
   "source": []
  }
 ],
 "metadata": {
  "kernelspec": {
   "display_name": "Python 3",
   "language": "python",
   "name": "python3"
  },
  "language_info": {
   "codemirror_mode": {
    "name": "ipython",
    "version": 3
   },
   "file_extension": ".py",
   "mimetype": "text/x-python",
   "name": "python",
   "nbconvert_exporter": "python",
   "pygments_lexer": "ipython3",
   "version": "3.7.3"
  }
 },
 "nbformat": 4,
 "nbformat_minor": 4
}
